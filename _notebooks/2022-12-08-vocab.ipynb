{
 "cells": [
  {
   "attachments": {},
   "cell_type": "markdown",
   "metadata": {},
   "source": [
    "# Vocabulary\n",
    "\n",
    "- toc: true\n",
    "- badges: true\n",
    "- comments: true\n",
    "- permalink: /2and3vocab\n",
    "categories: [week14]"
   ]
  },
  {
   "cell_type": "markdown",
   "metadata": {},
   "source": [
    "# Terms\n",
    "\n",
    "Unit 2… Binary/Data Terms Bits, Bytes, Hexadecimal / Nibbles Binary Numbers: Unsigned Integer, Signed Integer, Floating Point Binary Data Abstractions: Boolean, ASCII, Unicode, RGB Data Compression: Lossy, Lossless (note discussed yet)\n",
    "\n",
    "Unit 3… Algorithm/Programming Terms Variables, Data Types, Assignment Operators Managing Complexity with Variables: Lists, 2D Lists, Dictionaries, Class Algorithms, Sequence, Selection, Iteration Expressions, Comparison Operators, Booleans Expressions and Selection, Booleans Expressions and Iteration, Truth Tables Characters, Strings, Length, Concatenation, Upper, Lower, Traversing Strings Python If, Elif, Else conditionals; Nested Selection Statements Python For, While loops with Range, with List Combining loops with conditionals to Break, Continue Procedural Abstraction, Python Def procedures, Parameters, Return Values (edited)"
   ]
  },
  {
   "cell_type": "markdown",
   "metadata": {},
   "source": [
    "### Unit 2\n",
    "- bits: the single unit of information in a computer, typically represented as a 0 or 1\n",
    "- bytes: grouping of 8 bits\n",
    "- hexadecimal/nibbles: numbering system with base 16\n",
    "- binary numbers\n",
    "    - unsigted integer: whole numbers) but have the property that they don't have a + or - sign associated with them. Thus they are always non-negative (zero or positive).\n",
    "    - signed integer: A signed integer is a 32-bit datum that encodes an integer in the range [-2147483648 to 2147483647]\n",
    "    - floating point: arithmetic that represents real numbers approximately, using an integer with a fixed precision, called the significand\n",
    "- Binary Data Abstractions\n",
    "    - Boolean: a value that is either true or false (1 or 0)\n",
    "    - ASCII: a character encoding standard for electronic communication; diff symbols stand for different numbers; used 1 byte\n",
    "    - Unicode: Unicode is a universal character encoding standard. This standard includes roughly 100000 characters to represent characters of different languages; used 4 bytes\n",
    "    - RGB: color model based on red value, green value, and blue value.\n",
    "- Data Compression:\n",
    "    - Lossy: Lossy compression reduces a file by permanently eliminating certain information, especially redundant information. When the file is uncompressed, some of the original information is not there, although the user may not notice it.\n",
    "    - Lossless: Every bit of data originally in a file remains after it is uncompressed, and all the information is restored.\n"
   ]
  },
  {
   "cell_type": "markdown",
   "metadata": {},
   "source": [
    "### Unit 3 Algorithm/Programming Terms\n",
    "- Variables: A value that can change, depending on conditions or on information passed to the program. A variable can be assigned to a certain integer, float, string...\n",
    "- Data Types: a classification that specifies which type of value a variable has and what type of mathematical, relational or logical operations can be applied to it without causing an error.\n",
    "- Assignment Operators: sets and/or re-sets the value stored in the storage location(s) denoted by a variable name; in other words, it copies a value into the variable\n",
    "- Managing Complexity with Variables\n",
    "    - Lists: an abstract data type that represents a finite number of ordered values, where the same value may occur more than once.\n",
    "    - 2D Lists: 2D array is a collection of data cells, all of the same type, which can be given a single name\n",
    "    - Dictionaries: an abstract data type that defines an unordered collection of data as a set of key-value pairs\n",
    "    -Class: static variable that can be declared anywhere at class level with static\n",
    "- Algorithms: a small procedure that solves a recurrent problem\n",
    "- Sequence: the order in which statements are executed\n",
    "- Selection: a programming construct where a section of code is run only if a condition is met\n",
    "- Iteration: when the same procedure is repeated multiple times.\n",
    "- Expressions: a combination of values and functions that are combined and interpreted by the compiler to create a new value, as opposed to a “statement” which is just a standalone unit of execution and doesn't return anything\n",
    "- Comparison Operators: >, <=, <, =>, ==... operators that compare\n",
    "- Truth Tables: A truth table is a way of summarising and checking the logic of a circuit. The table shows all possible combinations of inputs and, for each combination, the output that the circuit will produce.\n",
    "- Characters: a display unit of information equivalent to one alphabetic letter or symbo (char)\n",
    "- Strings: A string is generally considered a data type and is often implemented as an array data structure of bytes (or words) that stores a sequence of elements, typically characters, using some character encoding.\n",
    "- Length: of a string\n",
    "- Concatenation: combining 2 strings\n",
    "- Traversing Strings: accessing all the elements of the string one after the other by using the subscript\n",
    "- Python If: a statement with an if condition\n",
    "- Elif: else if statement, - if x is true then ___, else do ____\n",
    "- Else conditionals: a statement with an else condition-- if x ____ else ____\n",
    "- Nested Selection Statements: selection statements that are nested within themselves (see example)\n",
    "P- ython For While loops with Range: a for/while loop that uses the range() function\n",
    "- Python for/while loop with with List: a while/for loop that iterates through a list and applies a certain algo to items in list\n",
    "- Combining loops with conditionals to Break: For certain conditions, the loop will terminate exectution\n",
    "- Python Def procedures (see code block 1)\n",
    "- Parameters: values that are passed through a function\n",
    "- Return Values: a value that a function returns to the calling script or function when it completes its task"
   ]
  },
  {
   "cell_type": "code",
   "execution_count": 1,
   "metadata": {},
   "outputs": [
    {
     "name": "stdout",
     "output_type": "stream",
     "text": [
      "25\n",
      "i am so sleepy\n",
      "[1, 2, 3, 4, 5]\n",
      "['red', 'orange', 'yellow', 'green', 'blue']\n",
      "False\n"
     ]
    }
   ],
   "source": [
    "# defining variables in python\n",
    "\n",
    "anumberyay = 25\n",
    "stringvariable = \"i am so sleepy\"\n",
    "numberlist = [1, 2, 3, 4, 5]\n",
    "listofstrings = [\"red\", \"orange\", \"yellow\", \"green\", \"blue\"]\n",
    "iamnotstressed = False\n",
    "\n",
    "print(anumberyay)\n",
    "print(stringvariable)\n",
    "print(numberlist)\n",
    "print(listofstrings)\n",
    "print(iamnotstressed)"
   ]
  },
  {
   "cell_type": "code",
   "execution_count": null,
   "metadata": {},
   "outputs": [],
   "source": [
    "# boolean in javascript\n",
    "\n",
    "Boolean(w > q) //true\n",
    "Boolean(w < q)  //false\n"
   ]
  },
  {
   "cell_type": "code",
   "execution_count": 2,
   "metadata": {},
   "outputs": [
    {
     "name": "stdout",
     "output_type": "stream",
     "text": [
      "3 is divisible by 3 :) \n",
      "4 is not divisible by 3 :(\n",
      "9 is divisible by 3 :) \n",
      "76 is not divisible by 3 :(\n",
      "891 is divisible by 3 :) \n"
     ]
    }
   ],
   "source": [
    "# if/else statement\n",
    "# list\n",
    "# sequence: code is run line by line: first remainder of x is found, then statement is printed\n",
    "# paramenters: the values in the list\n",
    "numlist = [\"3\",\"4\",\"9\",\"76\",\"891\"]\n",
    "for x in numlist:\n",
    "    if int(x) % 3 == 0:\n",
    "        print(str(x) + \" is divisible by 3 :) \")\n",
    "        continue\n",
    "    else:\n",
    "        print(str(x) + \" is not divisible by 3 :(\")\n",
    "        continue\n"
   ]
  },
  {
   "cell_type": "code",
   "execution_count": 3,
   "metadata": {},
   "outputs": [
    {
     "name": "stdout",
     "output_type": "stream",
     "text": [
      "['flowers', 'fruits']\n"
     ]
    }
   ],
   "source": [
    "# lists\n",
    "# list: square brackets\n",
    "\n",
    "list = []\n",
    "list.append(\"flowers\")\n",
    "list.append(\"fruits\")  # appending a value to a defined list\n",
    "print(list)\n"
   ]
  },
  {
   "cell_type": "code",
   "execution_count": 4,
   "metadata": {},
   "outputs": [
    {
     "name": "stdout",
     "output_type": "stream",
     "text": [
      "{'dogies': 'animals', 'banana': 'fruit', 'couch': 'furniture'}\n"
     ]
    }
   ],
   "source": [
    "# dictionary: curly brackets\n",
    "\n",
    "mydictionary = {\"dogies\":\"animals\"}  # defining dictionary using curly brackets\n",
    "mydictionary[\"banana\"] = \"fruit\"   #add keys and values to a dict by setting a value equal to a key, like shown\n",
    "mydictionary[\"couch\"] = \"furniture\"  #editing a value inside the dictionary\n",
    "print(mydictionary)"
   ]
  },
  {
   "cell_type": "code",
   "execution_count": 5,
   "metadata": {},
   "outputs": [
    {
     "name": "stdout",
     "output_type": "stream",
     "text": [
      "-3.0\n"
     ]
    }
   ],
   "source": [
    "# sequencing\n",
    "value1 = 5\n",
    "value2 = value1 / 10 #step 1\n",
    "value3 = value2 * 2 #step 2\n",
    "value4 = value3 - 4  #step 3\n",
    "print(value4)\n",
    "\n"
   ]
  },
  {
   "cell_type": "code",
   "execution_count": 6,
   "metadata": {},
   "outputs": [
    {
     "name": "stdout",
     "output_type": "stream",
     "text": [
      "10\n",
      "10\n"
     ]
    }
   ],
   "source": [
    "\n",
    "# math functions\n",
    "number = 5  #defining the variable number\n",
    "x = number * 2  #defining a variable by using another variable\n",
    "print(number*2)  # multiplying a variable by 2\n",
    "print(x)\n"
   ]
  },
  {
   "cell_type": "code",
   "execution_count": 7,
   "metadata": {},
   "outputs": [
    {
     "name": "stdout",
     "output_type": "stream",
     "text": [
      "hello\n",
      "bye\n",
      "hellobye\n"
     ]
    },
    {
     "data": {
      "text/plain": [
       "8"
      ]
     },
     "execution_count": 7,
     "metadata": {},
     "output_type": "execute_result"
    }
   ],
   "source": [
    "# substrings\n",
    "#substring = string[start:end] \n",
    "#the substring will have the characters including the index \"start\" to the character BEFORE the index \"end\"\n",
    "#len(string) will print the length of string\n",
    "\n",
    "(string) = \"hellobye\"\n",
    "print(string[0:5])\n",
    "print(string[5:8])\n",
    "print(string[0:8])\n",
    "len(string)\n"
   ]
  },
  {
   "cell_type": "code",
   "execution_count": 8,
   "metadata": {},
   "outputs": [
    {
     "name": "stdout",
     "output_type": "stream",
     "text": [
      "butterfly\n"
     ]
    }
   ],
   "source": [
    "# concatenation\n",
    "\n",
    "string1 = \"butter\"\n",
    "string2 = \"fly\"\n",
    "string3 = string1 + string2\n",
    "print(string3)\n"
   ]
  },
  {
   "cell_type": "code",
   "execution_count": 9,
   "metadata": {},
   "outputs": [
    {
     "name": "stdout",
     "output_type": "stream",
     "text": [
      "cat 3\n",
      "dog 3\n",
      "racoon 6\n",
      "rabbit 6\n"
     ]
    }
   ],
   "source": [
    "# string length\n",
    "names = [\"cat\",\"dog\",\"racoon\",\"rabbit\"]\n",
    "\n",
    "def length(names):\n",
    "    for x in names:\n",
    "        print(x, len(str(x)))\n",
    "\n",
    "length(names)\n"
   ]
  },
  {
   "cell_type": "code",
   "execution_count": 10,
   "metadata": {},
   "outputs": [
    {
     "name": "stdout",
     "output_type": "stream",
     "text": [
      "Your number 2133 in binary is 100001010101\n"
     ]
    }
   ],
   "source": [
    "decimal = int(input(\"Enter the number you would like to convert into binary\")) #get input from user & set variables\n",
    "binary = 0\n",
    "i = 0   #set initial\n",
    "num = decimal\n",
    "\n",
    "while(num > 0):\n",
    "    binary = ((num%2)*(10**i)) + binary # set binary equal to remainder of the input/2, multiplied by 10^i\n",
    "    num = int(num/2) #now number equal num/2 rounded to an integer\n",
    "    i += 1 #incriment by 1\n",
    "\n",
    "#output result       \n",
    "print(\"Your number \" + str(decimal) + \" in binary is \" + str(binary))\n"
   ]
  },
  {
   "cell_type": "code",
   "execution_count": 11,
   "metadata": {},
   "outputs": [
    {
     "name": "stdout",
     "output_type": "stream",
     "text": [
      "You got this, you are doing so well!\n"
     ]
    }
   ],
   "source": [
    "# nested conditionals (like russian nesting dolls)\n",
    "\n",
    "feeling = int(input(\"On a scale of 1-10, how do you feel today (10=amazing, 1= terrible)?\"))\n",
    "\n",
    "def response(feeling):\n",
    "    if feeling > 8:\n",
    "        print(\"Yay! I'm glad you feel that way :)\")\n",
    "        if feeling == 10:\n",
    "            print(\"I am so happy for you!\")\n",
    "    else:\n",
    "        if feeling < 4:\n",
    "            print(\"Oh no, I hope you feel better soon! You are doing amazing!\")\n",
    "        else:\n",
    "            print(\"You got this, you are doing so well!\")\n",
    "\n",
    "response(feeling)"
   ]
  },
  {
   "cell_type": "code",
   "execution_count": null,
   "metadata": {},
   "outputs": [],
   "source": []
  }
 ],
 "metadata": {
  "kernelspec": {
   "display_name": "Python 3",
   "language": "python",
   "name": "python3"
  },
  "language_info": {
   "codemirror_mode": {
    "name": "ipython",
    "version": 3
   },
   "file_extension": ".py",
   "mimetype": "text/x-python",
   "name": "python",
   "nbconvert_exporter": "python",
   "pygments_lexer": "ipython3",
   "version": "3.10.6"
  },
  "orig_nbformat": 4,
  "vscode": {
   "interpreter": {
    "hash": "b0fa6594d8f4cbf19f97940f81e996739fb7646882a419484c72d19e05852a7e"
   }
  }
 },
 "nbformat": 4,
 "nbformat_minor": 2
}
