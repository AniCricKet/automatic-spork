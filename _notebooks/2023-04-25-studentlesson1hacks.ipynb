{
 "cells": [
  {
   "attachments": {},
   "cell_type": "markdown",
   "metadata": {},
   "source": [
    "#  Devops Student Hacks\n",
    "> Hacks for the Devops Student Lesson\n",
    "- toc: true\n",
    "- categories: []\n",
    "- type: pbl\n",
    "- week: 28"
   ]
  },
  {
   "attachments": {},
   "cell_type": "markdown",
   "metadata": {},
   "source": [
    "### KASM Hacks:\n",
    "\n",
    "* Virtual desktops allow users to access a remote computer environment from their local devices. KASM, or Kernel-based Virtual Machine (KVM) Advanced Security Module, is a hypervisor that provides advanced security features for virtualized environments. In an AP CSP environment, virtual desktops can be utilized to provide access to necessary software and resources for students who may not have access to them on their personal devices. KASM can be used to ensure the security of the virtual environment and protect against cyber threats.\n",
    "\n",
    "* My KASM set-up attempt:\n",
    "\n",
    "![Screenshot 2023-04-26 at 3 15 02 PM](https://user-images.githubusercontent.com/91163802/234715322-dcf7e064-f034-437e-89f7-48d38d8835bc.png)"
   ]
  },
  {
   "attachments": {},
   "cell_type": "markdown",
   "metadata": {},
   "source": [
    "## AWS Quiz Answers:\n",
    "\n",
    "### Quiz 1:\n",
    "\n",
    "* C - Relational databases are based on tables and use SQL, while non-relational databases are based on collections and use JSON-like documents.\n",
    "* A - Amazon ElastiCache\n",
    "* C - To provide an example of how to connect to a database instance in RDS using Python.\n",
    "\n",
    "\n",
    "### Quiz 2:\n",
    "\n",
    "* C - SQLite\n",
    "* D - SQLite\n",
    "* C - Amazon Neptune"
   ]
  },
  {
   "cell_type": "code",
   "execution_count": 2,
   "metadata": {},
   "outputs": [
    {
     "name": "stdout",
     "output_type": "stream",
     "text": [
      "Hello, aniket running /Users/aniket/opt/anaconda3/bin/python\n",
      "You will be asked 11 questions.\n",
      "Are you ready to take a test! Press Enter key to begin. Best of luck :)\n",
      "Question 1 : What does Domain Name Server represent?\n",
      "DNS is correct! Good Job!\n",
      "Question 2 : What does this Represent: Amazon Web Services, which is a cloud computing platform provided by Amazon.\n",
      "AWS is correct! Good Job!\n",
      "Question 3 : What is the first Step to setting up an AWS Server? 1: Connecting to a Ubuntu EC2 Instance, 2: Start updating the system, 3: Clone the repository which one wishes to deploy, 4: Run the command: main.py to start the project\n",
      "1 is correct! Good Job!\n",
      "Question 4 : What is the third Step to setting up an AWS Server? 1: Connecting to a Ubuntu EC2 Instance, 2: Start updating the system, 3: Clone the repository which one wishes to deploy, 4: Run the command: main.py to start the project\n",
      "3 is correct! Good Job!\n",
      "Question 5 : What is the fourth Step to setting up an AWS Server? 1: Connecting to a Ubuntu EC2 Instance, 2: Start updating the system, 3: Clone the repository which one wishes to deploy, 4: Run the command: main.py to start the project\n",
      "4 is incorrect! Better Luck next time.\n",
      "Question 6 : What is the second Step to setting up an AWS Server? 1: Connecting to a Ubuntu EC2 Instance, 2: Start updating the system, 3: Clone the repository which one wishes to deploy, 4: Run the command: main.py to start the project\n",
      "1 is incorrect! Better Luck next time.\n",
      "Question 7 : What files are you supposed to edit after finishing the first steps of setting up the server and cloning it within the AWS Server? 1: Edit the docker files and docker.yml, 2: Edit the main.py file to change the characteristcs.\n",
      "1 is correct! Good Job!\n",
      "Question 8 : What is the first step to setting up a DuckDNS Server? 1: Sign in with your DuckDNS account using Github, 2: Configure current ip to the IP address that you want to access and click update ip button , 3: Create the subdomain, 4: Access site by typing in subdomain.duckdns.org\n",
      "1 is correct! Good Job!\n",
      "Question 9 : What is the second step to setting up a DuckDNS Server? 1: Sign in with your DuckDNS account using Github, 2: Configure current ip to the IP address that you want to access and click update ip button , 3: Create the subdomain, 4: Access site by typing in subdomain.duckdns.org\n",
      "3 is correct! Good Job!\n",
      "Question 10 : What is the third step to setting up a DuckDNS Server? 1: Sign in with your DuckDNS account using Github, 2: Configure current ip to the IP address that you want to access and click update ip button , 3: Create the subdomain, 4: Access site by typing in subdomain.duckdns.org\n",
      "2 is correct! Good Job!\n",
      "Question 11 : What is the fourth step to setting up a DuckDNS Server? 1: Sign in with your DuckDNS account using Github, 2: Configure current ip to the IP address that you want to access and click update ip button , 3: Create the subdomain, 4: Access site by typing in subdomain.duckdns.org\n",
      "4 is correct! Good Job!\n",
      "aniket you scored 9/11\n",
      "Total Percentage: 81.82%\n"
     ]
    }
   ],
   "source": [
    "import getpass, sys\n",
    "\n",
    "# method to display question and get user's answers\n",
    "def question_with_response(prompt, qCount):\n",
    "    print(\"Question \" + str(qCount)  + \" : \" + prompt)\n",
    "    msg = input()\n",
    "    return msg\n",
    "\n",
    "# dictionary to hold questions and answers as key : value pairs\n",
    "questionsDict = {\"What does Domain Name Server represent?\": \"DNS\",\n",
    "    \"What does this Represent: Amazon Web Services, which is a cloud computing platform provided by Amazon.\": \"AWS\", \n",
    "    \"What is the first Step to setting up an AWS Server? 1: Connecting to a Ubuntu EC2 Instance, 2: Start updating the system, 3: Clone the repository which one wishes to deploy, 4: Run the command: main.py to start the project\": \"1\",\n",
    "    \"What is the third Step to setting up an AWS Server? 1: Connecting to a Ubuntu EC2 Instance, 2: Start updating the system, 3: Clone the repository which one wishes to deploy, 4: Run the command: main.py to start the project\": \"3\",\n",
    "    \"What is the fourth Step to setting up an AWS Server? 1: Connecting to a Ubuntu EC2 Instance, 2: Start updating the system, 3: Clone the repository which one wishes to deploy, 4: Run the command: main.py to start the project\": \".4\",\n",
    "    \"What is the second Step to setting up an AWS Server? 1: Connecting to a Ubuntu EC2 Instance, 2: Start updating the system, 3: Clone the repository which one wishes to deploy, 4: Run the command: main.py to start the project\": \"2\",\n",
    "    \"What files are you supposed to edit after finishing the first steps of setting up the server and cloning it within the AWS Server? 1: Edit the docker files and docker.yml, 2: Edit the main.py file to change the characteristcs.\": \"1\",\n",
    "    \"What is the first step to setting up a DuckDNS Server? 1: Sign in with your DuckDNS account using Github, 2: Configure current ip to the IP address that you want to access and click update ip button , 3: Create the subdomain, 4: Access site by typing in subdomain.duckdns.org\": \"1\",\n",
    "    \"What is the second step to setting up a DuckDNS Server? 1: Sign in with your DuckDNS account using Github, 2: Configure current ip to the IP address that you want to access and click update ip button , 3: Create the subdomain, 4: Access site by typing in subdomain.duckdns.org\": \"3\",\n",
    "    \"What is the third step to setting up a DuckDNS Server? 1: Sign in with your DuckDNS account using Github, 2: Configure current ip to the IP address that you want to access and click update ip button , 3: Create the subdomain, 4: Access site by typing in subdomain.duckdns.org\": \"2\",\n",
    "    \"What is the fourth step to setting up a DuckDNS Server? 1: Sign in with your DuckDNS account using Github, 2: Configure current ip to the IP address that you want to access and click update ip button , 3: Create the subdomain, 4: Access site by typing in subdomain.duckdns.org\": \"4\"\n",
    "}\n",
    "\n",
    "# number of questions as length of the dictionary\n",
    "questions = len(questionsDict)\n",
    "\n",
    "# set correct to 0\n",
    "correct = 0\n",
    "\n",
    "\n",
    "print('Hello, ' + getpass.getuser() + \" running \" + sys.executable)\n",
    "print(\"You will be asked \" + str(questions) + \" questions.\")\n",
    "print(\"Are you ready to take a test! Press Enter key to begin. Best of luck :)\")\n",
    "input()\n",
    "\n",
    "questionCount = 0\n",
    "# iterate over list of keys from the dictionary. pass dictionary key as question to the question_with_response function\n",
    "for key in questionsDict:\n",
    "    questionCount += 1\n",
    "    rsp = question_with_response(key, questionCount)\n",
    "    # compare the value from the dictionary to the user's input\n",
    "    if rsp.lower() == questionsDict[key].lower():\n",
    "        print(rsp + \" is correct! Good Job!\")\n",
    "        correct += 1\n",
    "    else:\n",
    "        print(rsp + \" is incorrect! Better Luck next time.\")\n",
    "\n",
    "# print final score    \n",
    "print(getpass.getuser() + \" you scored \" + str(correct) +\"/\" + str(questions))\n",
    "\n",
    "# calculate percentage\n",
    "page = correct/questions * 100\n",
    "\n",
    "# print percentage\n",
    "\n",
    "\n",
    "print(\"Total Percentage: \" + str (format(page,\".2f\")) + \"%\")"
   ]
  },
  {
   "attachments": {},
   "cell_type": "markdown",
   "metadata": {},
   "source": [
    "### AWS/DuckDNS FRQ Questions:\n",
    "\n",
    "* How does AWS work?\n",
    "\n",
    "AWS is a cloud computing platform that provides a wide range of services, including computing power, storage, and databases, among others. AWS also provides a range of management and deployment tools to help users manage their resources more efficiently.\n",
    "\n",
    "* How is AWS useful for projects?\n",
    "\n",
    "AWS can be incredibly useful for projects because it allows users to easily and quickly provision computing resources on an as-needed basis. This means that users can scale their infrastructure up or down depending on the needs of their project, without having to invest in expensive hardware upfront. Additionally, AWS provides a wide range of tools and services that can be used to deploy, manage, and monitor applications running on its infrastructure.\n",
    "\n",
    "* How does DuckDNS work?\n",
    "\n",
    "Duck DNS is a free dynamic DNS service that allows users to map a domain name to a dynamic IP address. Essentially, Duck DNS provides users with a domain name that they can use to access their network or device, even if the IP address of that network or device changes frequently.\n",
    "\n",
    "* How is DuckDNS useful for projects?\n",
    "\n",
    "Duck DNS can be incredibly useful for projects that require remote access to a network or device that has a dynamic IP address. By using a domain name provided by Duck DNS, users can access their network or device from anywhere, even if the IP address of that network or device changes frequently. This can be especially useful for projects that involve remote monitoring, control, or access to IoT devices, or for projects that require remote access to a network or device from multiple locations.\n",
    "\n",
    "![duckdnsproscons](https://user-images.githubusercontent.com/91163802/234741675-102ffd34-8f2c-45cc-a199-f9d9b27e9ad0.png)\n"
   ]
  },
  {
   "attachments": {},
   "cell_type": "markdown",
   "metadata": {},
   "source": [
    "### Certbot Hacks\n",
    "\n",
    "1. I couldn't get the sudo certbot command to work\n",
    "2. OpenSSL and LibreSSL are two open-source cryptographic libraries with comparable security features. They both provide support for a broad range of cryptographic algorithms, secure random number generation, SSL/TLS protocol implementation, and X.509 certificate handling. However, LibreSSL aims to update OpenSSL by removing outdated features and introducing new security measures. While both libraries have experienced significant vulnerabilities recently, timely patches were made available to address them.\n",
    "\n",
    "<img width=\"519\" alt=\"Screenshot 2023-04-26 at 11 00 25 PM\" src=\"https://user-images.githubusercontent.com/91163802/234772739-a3a6e3a2-70a5-4fec-8224-1ffe54b30aef.png\">\n"
   ]
  }
 ],
 "metadata": {
  "kernelspec": {
   "display_name": "base",
   "language": "python",
   "name": "python3"
  },
  "language_info": {
   "codemirror_mode": {
    "name": "ipython",
    "version": 3
   },
   "file_extension": ".py",
   "mimetype": "text/x-python",
   "name": "python",
   "nbconvert_exporter": "python",
   "pygments_lexer": "ipython3",
   "version": "3.9.12"
  },
  "orig_nbformat": 4
 },
 "nbformat": 4,
 "nbformat_minor": 2
}
