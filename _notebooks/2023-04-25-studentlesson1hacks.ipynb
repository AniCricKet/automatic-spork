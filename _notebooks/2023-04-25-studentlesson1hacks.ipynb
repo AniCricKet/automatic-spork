{
 "cells": [
  {
   "attachments": {},
   "cell_type": "markdown",
   "metadata": {},
   "source": [
    "#  Data Structures- Hashmaps, Sets, Hash Tables, Hashing and Collisions\n",
    "> Observing hashmaps with python dictionaries\n",
    "- toc: true\n",
    "- categories: []\n",
    "- type: pbl\n",
    "- week: 28"
   ]
  },
  {
   "attachments": {},
   "cell_type": "markdown",
   "metadata": {},
   "source": [
    "* What is the main difference between relational and non-relational databases?\n",
    "\n",
    "A. Relational databases are only used for structured data, while non-relational databases are only used for unstructured data.\n",
    "\n",
    "B. Relational databases can easily handle high data volumes, while non-relational databases cannot.\n",
    "\n",
    "** C. Relational databases are based on tables and use SQL, while non-relational databases are based on collections and use JSON-like documents. **\n",
    "\n",
    "D. Relational databases are more expensive than non-relational databases.\n",
    "\n",
    "\n",
    "* Which AWS database service is best suited for applications that require low-latency speed?\n",
    "\n",
    "** A. Amazon ElastiCache **\n",
    "\n",
    "B. Amazon Neptune\n",
    "\n",
    "C. Amazon DocumentDB\n",
    "\n",
    "D. Amazon RDS\n",
    "\n",
    "* What is the purpose of the code example provided in the lesson?\n",
    "\n",
    "A. To demonstrate how to create a table in Amazon Aurora.\n",
    "\n",
    "B. To show how to query data from a DynamoDB table.\n",
    "\n",
    "** C. To provide an example of how to connect to a database instance in RDS using Python. **\n",
    "\n",
    "D. To showcase how to insert data into a MySQL table."
   ]
  }
 ],
 "metadata": {
  "language_info": {
   "name": "python"
  },
  "orig_nbformat": 4
 },
 "nbformat": 4,
 "nbformat_minor": 2
}
