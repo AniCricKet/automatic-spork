{
 "cells": [
  {
   "cell_type": "markdown",
   "metadata": {},
   "source": [
    "# Notebook Test\n",
    "> Test for Notebook\n",
    "\n",
    "- toc: true \n",
    "- badges: true\n",
    "- comments: true\n",
    "- categories: [jupyter]"
   ]
  },
  {
   "cell_type": "markdown",
   "metadata": {},
   "source": [
    "Quiz based on [Fortnite: Battle Royale](https://fortnite.fandom.com/wiki/Fortnite_Wiki)\n",
    "Layout - 3 simple multiple choice questions: 1 welcome screen, 3 question screens, 1 ending screen\n",
    "\n",
    "Q1: What year did Fortnite: Battle Royale release?\n",
    "\n",
    "A: 1776\n",
    "B: 2015\n",
    "C: 2017\n",
    "D: 2018\n",
    "\n",
    "Q2: Which is the vehicle which drops off players?\n",
    "\n",
    "A: Reboot Van\n",
    "B: Battle Bus\n",
    "C: Helicopter\n",
    "D: Shopping cart\n",
    "\n",
    "Q3: What weapons do you start off with upon spawning?\n",
    "\n",
    "A: Pick-axe\n",
    "B: Scar\n",
    "C: Pistol\n",
    "D: Shotguns\n",
    "\n",
    "[Final quiz](https://studio.code.org/projects/applab/6TD9Q5VSwJ-bI4Zan8cX9YLBZMKzjB75fHWF2BYc4xE)"
   ]
  },
  {
   "cell_type": "code",
   "execution_count": 4,
   "metadata": {},
   "outputs": [
    {
     "name": "stdout",
     "output_type": "stream",
     "text": [
      "Hello World!\n"
     ]
    }
   ],
   "source": [
    "console.log(\"Hello World!\")"
   ]
  }
 ],
 "metadata": {
  "kernelspec": {
   "display_name": "JavaScript (Node.js)",
   "language": "javascript",
   "name": "javascript"
  },
  "language_info": {
   "file_extension": ".js",
   "mimetype": "application/javascript",
   "name": "javascript",
   "version": "10.13.0"
  },
  "orig_nbformat": 4,
  "vscode": {
   "interpreter": {
    "hash": "b0fa6594d8f4cbf19f97940f81e996739fb7646882a419484c72d19e05852a7e"
   }
  }
 },
 "nbformat": 4,
 "nbformat_minor": 2
}
