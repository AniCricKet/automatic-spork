{
 "cells": [
  {
   "attachments": {},
   "cell_type": "markdown",
   "metadata": {},
   "source": [
    "#  Data Structures- Hashmaps, Sets, Hash Tables, Hashing and Collisions\n",
    "> Observing hashmaps with python dictionaries\n",
    "- toc: true\n",
    "- categories: []\n",
    "- type: pbl\n",
    "- week: 28"
   ]
  },
  {
   "attachments": {},
   "cell_type": "markdown",
   "metadata": {},
   "source": [
    "## What is a Hashtable/Hashmap?\n",
    "\n",
    "> A hashtable is a data structure that with a collection of key-value pairs, where each key maps to a value, and the keys must be unique and hashable.\n",
    "\n",
    "- In Python there is a built in hashtable known as a dictionary.\n",
    "\n",
    "> The primary purpose of a hashtable is to provide efficient lookup, insertion, and deletion operations. When an element is to be inserted into the hashtable, a hash function is used to map the key to a specific index in the underlying array that is used to store the key-value pairs. The value is then stored at that index. When searching for a value, the hash function is used again to find the index where the value is stored.\n",
    "\n",
    "> The key advantage of a hashtable over other data structures like arrays and linked lists is its average-case time complexity for lookup, insertion, and deletion operations.\n",
    "\n",
    "- The typical time complexity of a hashtable is O(n). \n"
   ]
  },
  {
   "attachments": {},
   "cell_type": "markdown",
   "metadata": {},
   "source": [
    "## What is Hashing and Collision?\n",
    "\n",
    "> Hashing is the process of mapping a given key to a value in a hash table or hashmap, using a hash function. The hash function takes the key as input and produces a hash value or hash code, which is then used to determine the index in the underlying array where the value is stored. The purpose of hashing is to provide a quick and efficient way to access data, by eliminating the need to search through an entire data structure to find a value.\n",
    "\n",
    "> However, it is possible for two different keys to map to the same hash value, resulting in a collision. When a collision occurs, there are different ways to resolve it, depending on the collision resolution strategy used.\n",
    "\n",
    "> Python's dictionary implementation is optimized to handle collisions efficiently, and the performance of the dictionary is generally very good, even in the presence of collisions. However, if the number of collisions is very high, the performance of the dictionary can degrade, so it is important to choose a good hash function that minimizes collisions when designing a Python dictionary.\n",
    "\n",
    "## What is a Set?"
   ]
  },
  {
   "cell_type": "code",
   "execution_count": 16,
   "metadata": {},
   "outputs": [
    {
     "name": "stdout",
     "output_type": "stream",
     "text": [
      "{1, 2, 3}\n"
     ]
    }
   ],
   "source": [
    "# Creating a set using set() function\n",
    "my_set = set([1, 2, 3, 2, 1])\n",
    "print(my_set)  \n",
    "\n",
    "# What do you notice in the output?\n",
    "# Took out all duplicate values  \n",
    "\n",
    "# Why do you think Sets are in the same tech talk as Hashmaps/Hashtables?\n",
    "# Because both sets and dictionaries have no duplicates"
   ]
  },
  {
   "attachments": {},
   "cell_type": "markdown",
   "metadata": {},
   "source": [
    "## Dictionary Example\n",
    "\n",
    "Below are just some basic features of a dictionary. As always, documentation is always the main source for all the full capablilties. "
   ]
  },
  {
   "cell_type": "code",
   "execution_count": 17,
   "metadata": {},
   "outputs": [
    {
     "name": "stdout",
     "output_type": "stream",
     "text": [
      "{'title': 'Lover', 'artist': 'Taylor Swift', 'year': 2019, 'genre': ['Pop', 'Synth-pop'], 'tracks': {1: 'I Forgot That You Existed', 2: 'Cruel Summer', 3: 'Lover', 4: 'The Man', 5: 'The Archer', 6: 'I Think He Knows', 7: 'Miss Americana & The Heartbreak Prince', 8: 'Paper Rings', 9: 'Cornelia Street', 10: 'Death By A Thousand Cuts', 11: 'London Boy', 12: \"Soon You'll Get Better (feat. Dixie Chicks)\", 13: 'False God', 14: 'You Need To Calm Down', 15: 'Afterglow', 16: 'Me! (feat. Brendon Urie of Panic! At The Disco)', 17: \"It's Nice To Have A Friend\", 18: 'Daylight'}}\n"
     ]
    }
   ],
   "source": [
    "# Creating a dictionary with information about the album \"Lover\"\n",
    "lover_album = {\n",
    "    \"title\": \"Lover\",\n",
    "    \"artist\": \"Taylor Swift\",\n",
    "    \"year\": 2019,\n",
    "    \"genre\": [\"Pop\", \"Synth-pop\"],\n",
    "    \"tracks\": {\n",
    "        1: \"I Forgot That You Existed\",\n",
    "        2: \"Cruel Summer\",\n",
    "        3: \"Lover\",\n",
    "        4: \"The Man\",\n",
    "        5: \"The Archer\",\n",
    "        6: \"I Think He Knows\",\n",
    "        7: \"Miss Americana & The Heartbreak Prince\",\n",
    "        8: \"Paper Rings\",\n",
    "        9: \"Cornelia Street\",\n",
    "        10: \"Death By A Thousand Cuts\",\n",
    "        11: \"London Boy\",\n",
    "        12: \"Soon You'll Get Better (feat. Dixie Chicks)\",\n",
    "        13: \"False God\",\n",
    "        14: \"You Need To Calm Down\",\n",
    "        15: \"Afterglow\",\n",
    "        16: \"Me! (feat. Brendon Urie of Panic! At The Disco)\",\n",
    "        17: \"It's Nice To Have A Friend\",\n",
    "        18: \"Daylight\"\n",
    "    }\n",
    "}\n",
    "\n",
    "# What data structures do you see?\n",
    "# Dictionary with strings and integers\n",
    "\n",
    "# Printing the dictionary\n",
    "print(lover_album)"
   ]
  },
  {
   "cell_type": "code",
   "execution_count": 18,
   "metadata": {},
   "outputs": [
    {
     "name": "stdout",
     "output_type": "stream",
     "text": [
      "{1: 'I Forgot That You Existed', 2: 'Cruel Summer', 3: 'Lover', 4: 'The Man', 5: 'The Archer', 6: 'I Think He Knows', 7: 'Miss Americana & The Heartbreak Prince', 8: 'Paper Rings', 9: 'Cornelia Street', 10: 'Death By A Thousand Cuts', 11: 'London Boy', 12: \"Soon You'll Get Better (feat. Dixie Chicks)\", 13: 'False God', 14: 'You Need To Calm Down', 15: 'Afterglow', 16: 'Me! (feat. Brendon Urie of Panic! At The Disco)', 17: \"It's Nice To Have A Friend\", 18: 'Daylight'}\n",
      "{1: 'I Forgot That You Existed', 2: 'Cruel Summer', 3: 'Lover', 4: 'The Man', 5: 'The Archer', 6: 'I Think He Knows', 7: 'Miss Americana & The Heartbreak Prince', 8: 'Paper Rings', 9: 'Cornelia Street', 10: 'Death By A Thousand Cuts', 11: 'London Boy', 12: \"Soon You'll Get Better (feat. Dixie Chicks)\", 13: 'False God', 14: 'You Need To Calm Down', 15: 'Afterglow', 16: 'Me! (feat. Brendon Urie of Panic! At The Disco)', 17: \"It's Nice To Have A Friend\", 18: 'Daylight'}\n"
     ]
    }
   ],
   "source": [
    "# Retrieve value from dictionary with key\n",
    "print(lover_album.get('tracks'))\n",
    "# or\n",
    "print(lover_album['tracks'])"
   ]
  },
  {
   "cell_type": "code",
   "execution_count": 19,
   "metadata": {},
   "outputs": [
    {
     "name": "stdout",
     "output_type": "stream",
     "text": [
      "The Man\n",
      "The Man\n"
     ]
    }
   ],
   "source": [
    "# Retrieve value from a dictionary inside a dictionary\n",
    "print(lover_album.get('tracks')[4])\n",
    "# or\n",
    "print(lover_album['tracks'][4])"
   ]
  },
  {
   "cell_type": "code",
   "execution_count": 20,
   "metadata": {},
   "outputs": [
    {
     "name": "stdout",
     "output_type": "stream",
     "text": [
      "{'title': 'Lover', 'artist': 'Taylor Swift', 'year': 2019, 'genre': ['Pop', 'Synth-pop'], 'tracks': {1: 'I Forgot That You Existed', 2: 'Cruel Summer', 3: 'Lover', 4: 'The Man', 5: 'The Archer', 6: 'I Think He Knows', 7: 'Miss Americana & The Heartbreak Prince', 8: 'Paper Rings', 9: 'Cornelia Street', 10: 'Death By A Thousand Cuts', 11: 'London Boy', 12: \"Soon You'll Get Better (feat. Dixie Chicks)\", 13: 'False God', 14: 'You Need To Calm Down', 15: 'Afterglow', 16: 'Me! (feat. Brendon Urie of Panic! At The Disco)', 17: \"It's Nice To Have A Friend\", 18: 'Daylight'}, 'producer': {'Frank Dukes', 'Louis Bell', 'Taylor Swift', 'Jack Antonoff', 'Joel Little'}}\n"
     ]
    }
   ],
   "source": [
    "# adding a value with a new key\n",
    "lover_album[\"producer\"] = set(['Taylor Swift', 'Jack Antonoff', 'Joel Little', 'Taylor Swift', 'Louis Bell', 'Frank Dukes'])\n",
    "\n",
    "# What can you change to make sure there are no duplicate producers?\n",
    "# Make it a set\n",
    "\n",
    "# Printing the dictionary\n",
    "print(lover_album)"
   ]
  },
  {
   "cell_type": "code",
   "execution_count": 21,
   "metadata": {},
   "outputs": [
    {
     "name": "stdout",
     "output_type": "stream",
     "text": [
      "{'title': 'Lover', 'artist': 'Taylor Swift', 'year': 2019, 'genre': ['Pop', 'Synth-pop'], 'tracks': {1: 'I Forgot That You Existed', 2: 'Cruel Summer', 3: 'Lover', 4: 'The Man', 5: 'The Archer', 6: 'I Think He Knows', 7: 'Miss Americana & The Heartbreak Prince', 8: 'Paper Rings', 9: 'Cornelia Street', 10: 'Death By A Thousand Cuts', 11: 'London Boy', 12: \"Soon You'll Get Better (feat. Dixie Chicks)\", 13: 'False God', 14: 'You Need To Calm Down', 15: 'Afterglow', 16: 'Me! (feat. Brendon Urie of Panic! At The Disco)', 17: \"It's Nice To Have A Friend\", 18: 'Daylight', 19: 'All Of The Girls You Loved Before'}, 'producer': {'Frank Dukes', 'Louis Bell', 'Taylor Swift', 'Jack Antonoff', 'Joel Little'}}\n"
     ]
    }
   ],
   "source": [
    "# Adding a an key-value pair to an existing key \n",
    "lover_album[\"tracks\"].update({19: \"All Of The Girls You Loved Before\"})\n",
    "\n",
    "# How would add an additional genre to the dictionary, like electropop? \n",
    "# instead of doing [\"tracks\"].update(), do [\"genre\"].update()\n",
    "\n",
    "# Printing the dictionary\n",
    "print(lover_album)"
   ]
  },
  {
   "cell_type": "code",
   "execution_count": 25,
   "metadata": {},
   "outputs": [
    {
     "name": "stdout",
     "output_type": "stream",
     "text": [
      "Album Title: Lover\n",
      "Artist: Taylor Swift\n",
      "Year: 2019\n",
      "Genre: Pop, Synth-pop\n",
      "\n",
      "Tracklist:\n",
      "1 - I Forgot That You Existed\n",
      "2 - Cruel Summer\n",
      "3 - Lover\n",
      "4 - The Man\n",
      "5 - The Archer\n",
      "6 - I Think He Knows\n",
      "7 - Miss Americana & The Heartbreak Prince\n",
      "8 - Paper Rings\n",
      "9 - Cornelia Street\n",
      "10 - Death By A Thousand Cuts\n",
      "11 - London Boy\n",
      "12 - Soon You'll Get Better (feat. Dixie Chicks)\n",
      "13 - False God\n",
      "14 - You Need To Calm Down\n",
      "15 - Afterglow\n",
      "16 - Me! (feat. Brendon Urie of Panic! At The Disco)\n",
      "17 - It's Nice To Have A Friend\n",
      "18 - Daylight\n",
      "19 - All Of The Girls You Loved Before\n"
     ]
    }
   ],
   "source": [
    "# Print lover_album in more readable format\n",
    "# for k,v in lover_album.items(): # iterate using a for loop for key and value\n",
    "#     print(str(k) + \": \" + str(v))\n",
    "\n",
    "# Write your own code to print tracks in readable format\n",
    "\n",
    "print(\"Album Title:\", lover_album[\"title\"])\n",
    "print(\"Artist:\", lover_album[\"artist\"])\n",
    "print(\"Year:\", lover_album[\"year\"])\n",
    "print(\"Genre:\", \", \".join(lover_album[\"genre\"]))\n",
    "\n",
    "print(\"\\nTracklist:\")\n",
    "for track_num, track_title in lover_album[\"tracks\"].items():\n",
    "    print(track_num, \"-\", track_title)"
   ]
  },
  {
   "cell_type": "code",
   "execution_count": 29,
   "metadata": {},
   "outputs": [
    {
     "name": "stdout",
     "output_type": "stream",
     "text": [
      "Randomly chosen track from the album:\n",
      "7 - Miss Americana & The Heartbreak Prince\n"
     ]
    }
   ],
   "source": [
    "# Using conditionals to retrieve a random song\n",
    "# def search():\n",
    "#     search = input(\"What would you like to know about the album?\")\n",
    "#     if lover_album.get(search.lower()) == None:\n",
    "#         print(\"Invalid Search\")\n",
    "#     else:\n",
    "#         print(lover_album.get(search.lower()))\n",
    "\n",
    "# search()\n",
    "\n",
    "# This is a very basic code segment, how can you improve upon this code?\n",
    "\n",
    "import random\n",
    "\n",
    "random_track_num = random.choice(list(lover_album[\"tracks\"].keys()))\n",
    "random_track_title = lover_album[\"tracks\"][random_track_num]\n",
    "\n",
    "print(\"Randomly chosen track from the album:\")\n",
    "print(random_track_num, \"-\", random_track_title)\n"
   ]
  },
  {
   "cell_type": "code",
   "execution_count": 31,
   "metadata": {},
   "outputs": [
    {
     "name": "stdout",
     "output_type": "stream",
     "text": [
      "{'title': 'An Evening With Silk Sonic', 'artist': 'Silk Sonic', 'year': 2022, 'genre': ['R&B', 'Soul'], 'tracks': {1: 'Silk Sonic Intro', 2: 'Leave the Door Open', 3: 'Fly As Me', 4: 'After Last Night (with Thundercat and Bootsy Collins)', 5: 'Smokin Out The Window', 6: 'Put On A Smile', 7: '777', 8: 'Skate', 9: 'Blast Off'}}\n",
      "{1: 'Silk Sonic Intro', 2: 'Leave the Door Open', 3: 'Fly As Me', 4: 'After Last Night (with Thundercat and Bootsy Collins)', 5: 'Smokin Out The Window', 6: 'Put On A Smile', 7: '777', 8: 'Skate', 9: 'Blast Off'}\n",
      "Fly As Me\n",
      " \n",
      "Printing Complete Album:\n",
      "\n",
      "Album Title: An Evening With Silk Sonic\n",
      "Artist: Silk Sonic\n",
      "Year: 2022\n",
      "Genre: R&B, Soul\n",
      "\n",
      "Tracklist:\n",
      "1 - Silk Sonic Intro\n",
      "2 - Leave the Door Open\n",
      "3 - Fly As Me\n",
      "4 - After Last Night (with Thundercat and Bootsy Collins)\n",
      "5 - Smokin Out The Window\n",
      "6 - Put On A Smile\n",
      "7 - 777\n",
      "8 - Skate\n",
      "9 - Blast Off\n",
      "10 - Love's Train\n"
     ]
    }
   ],
   "source": [
    "aewss = {\n",
    "    \"title\": \"An Evening With Silk Sonic\",\n",
    "    \"artist\": \"Silk Sonic\",\n",
    "    \"year\": 2022,\n",
    "    \"genre\": [\"R&B\", \"Soul\"],\n",
    "    \"tracks\": {\n",
    "        1: \"Silk Sonic Intro\",\n",
    "        2: \"Leave the Door Open\",\n",
    "        3: \"Fly As Me\",\n",
    "        4: \"After Last Night (with Thundercat and Bootsy Collins)\",\n",
    "        5: \"Smokin Out The Window\",\n",
    "        6: \"Put On A Smile\",\n",
    "        7: \"777\",\n",
    "        8: \"Skate\",\n",
    "        9: \"Blast Off\",\n",
    "}\n",
    "\n",
    "}\n",
    "\n",
    "# Print the whole dictionary\n",
    "print(aewss)\n",
    "\n",
    "# Print just the tracks\n",
    "print(aewss['tracks'])\n",
    "\n",
    "# Print only the 3rd track (my personal favorite song)\n",
    "print(aewss['tracks'][3])\n",
    "\n",
    "# Add the deluxe bonus track\n",
    "aewss[\"tracks\"].update({10: \"Love's Train\"})\n",
    "\n",
    "print(\" \")\n",
    "print(\"Printing Complete Album:\\n\")\n",
    "\n",
    "# for k,v in aewss.items(): # iterate using a for loop for key and value\n",
    "#     print(str(k) + \": \" + str(v))\n",
    "\n",
    "print(\"Album Title:\", aewss[\"title\"])\n",
    "print(\"Artist:\", aewss[\"artist\"])\n",
    "print(\"Year:\", aewss[\"year\"])\n",
    "print(\"Genre:\", \", \".join(aewss[\"genre\"]))\n",
    "\n",
    "print(\"\\nTracklist:\")\n",
    "for track_num, track_title in aewss[\"tracks\"].items():\n",
    "    print(track_num, \"-\", track_title)"
   ]
  },
  {
   "attachments": {},
   "cell_type": "markdown",
   "metadata": {},
   "source": [
    "## Hacks\n",
    "\n",
    "- Answer *ALL* questions in the code segments\n",
    "- Create a diagram or comparison illustration (Canva).\n",
    "    - What are the pro and cons of using this data structure? \n",
    "    - Dictionary vs List    \n",
    "- Expand upon the code given to you, possible improvements in comments\n",
    "- Build your own album showing features of a python dictionary\n",
    "\n",
    "- For Mr. Yeung's class: Justify your favorite Taylor Swift song, answer may effect seed\n",
    "\n",
    "In my humble opinion, I think that You Belong with me is the greatest Taylor Swift song to ever be created. While all of her songs are absolute masterpieces, there's just something else about the storyline and plot of the music video which will always stick with me. The music video and lyrics are so relatable as it shows Taylor going through something which can happen to anyone. She's dealing with rejection and is seen as an absolute nerd, while having a crush on the popular football player. But as the song progresses, it shows how the football player gets cheated on by his girlfriend, and that's when he truly realizes Taylor's true beauty. The character development is equisite, and it's just overall an unbelievable song. It was #11 on my spotify wrapped in 2021, and is probably one of my favorite songs ever."
   ]
  }
 ],
 "metadata": {
  "kernelspec": {
   "display_name": "base",
   "language": "python",
   "name": "python3"
  },
  "language_info": {
   "codemirror_mode": {
    "name": "ipython",
    "version": 3
   },
   "file_extension": ".py",
   "mimetype": "text/x-python",
   "name": "python",
   "nbconvert_exporter": "python",
   "pygments_lexer": "ipython3",
   "version": "3.9.12"
  },
  "orig_nbformat": 4,
  "vscode": {
   "interpreter": {
    "hash": "62a3c7b13e34c5c80066aa14813ae7aee42bdf5a84ed4de12303ddc5ae86578e"
   }
  }
 },
 "nbformat": 4,
 "nbformat_minor": 2
}
