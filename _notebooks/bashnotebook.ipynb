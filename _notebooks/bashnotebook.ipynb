{
 "cells": [
  {
   "cell_type": "markdown",
   "metadata": {},
   "source": [
    "# Test Bash script\n",
    "- categories: [bash, classwork]\n"
   ]
  },
  {
   "cell_type": "code",
   "execution_count": 1,
   "metadata": {
    "vscode": {
     "languageId": "shellscript"
    }
   },
   "outputs": [
    {
     "name": "stdout",
     "output_type": "stream",
     "text": [
      "Hello World\n"
     ]
    }
   ],
   "source": [
    "echo \"Hello World\"\n"
   ]
  },
  {
   "cell_type": "markdown",
   "metadata": {},
   "source": [
    "# Prerequisites for my Project Directory"
   ]
  },
  {
   "cell_type": "code",
   "execution_count": 6,
   "metadata": {
    "vscode": {
     "languageId": "shellscript"
    }
   },
   "outputs": [
    {
     "name": "stdout",
     "output_type": "stream",
     "text": [
      "Using conditional statement to create a project directory and project\n",
      "Directory /Users/aniket/bashScriptTest exists.\n",
      "Directory /Users/aniket/bashScriptTest/automatic-spork exists.\n"
     ]
    }
   ],
   "source": [
    "echo \"Using conditional statement to create a project directory and project\"\n",
    "\n",
    "export project_dir=$HOME/bashScriptTest\n",
    "export project=$project_dir/automatic-spork\n",
    "export project_repo=\"https://github.com/AniCricKet/automatic-spork.git\"\n",
    "\n",
    "cd ~\n",
    "\n",
    "if [ ! -d $project_dir ]\n",
    "then \n",
    "    echo \"Directory $project_dir does not exists... makinng directory $project_dir\"\n",
    "    mkdir -p $project_dir\n",
    "fi\n",
    "echo \"Directory $project_dir exists.\" \n",
    "\n",
    "if [ ! -d $project ]\n",
    "then\n",
    "    echo \"Directory $project does not exists... cloning $project_repo\"\n",
    "    cd $project_dir\n",
    "    git clone $project_repo\n",
    "    cd ~\n",
    "fi\n",
    "echo \"Directory $project exists.\""
   ]
  },
  {
   "cell_type": "markdown",
   "metadata": {},
   "source": [
    "# Look inside Fastpages/Github page project"
   ]
  },
  {
   "cell_type": "code",
   "execution_count": null,
   "metadata": {
    "vscode": {
     "languageId": "shellscript"
    }
   },
   "outputs": [],
   "source": [
    "echo \"Navigate to project, then navigate to area wwhere files were cloned\"\n",
    "cd $project\n",
    "pwd\n",
    "\n",
    "echo \"\"\n",
    "echo \"list top level or root of files with project pulled from github\"\n",
    "ls\n",
    "\n",
    "echo \"\"\n",
    "echo \"list again with hidden files pulled from github\"\n",
    "ls -a\n",
    "\n",
    "echo \"\"\n",
    "echo \"list all files in long format\"\n",
    "ls -al"
   ]
  },
  {
   "cell_type": "code",
   "execution_count": 7,
   "metadata": {
    "vscode": {
     "languageId": "shellscript"
    }
   },
   "outputs": [
    {
     "name": "stdout",
     "output_type": "stream",
     "text": [
      "Look for posts\n",
      "/Users/aniket/bashScriptTest/automatic-spork/_posts\n",
      "total 24\n",
      "-rwxr-xr-x  1 aniket  staff  1966 Aug 26 15:21 2020-01-14-test-markdown-post.md\n",
      "-rw-r--r--  1 aniket  staff   125 Aug 26 15:21 2022-08-22-aniket-post1.md\n",
      "-rw-r--r--  1 aniket  staff   720 Aug 26 15:21 README.md\n"
     ]
    }
   ],
   "source": [
    "echo \"Look for posts\"\n",
    "export posts=$project/_posts\n",
    "cd $posts\n",
    "pwd\n",
    "ls -l"
   ]
  },
  {
   "cell_type": "code",
   "execution_count": 8,
   "metadata": {
    "vscode": {
     "languageId": "shellscript"
    }
   },
   "outputs": [
    {
     "name": "stdout",
     "output_type": "stream",
     "text": [
      "Look for notebooks\n",
      "/Users/aniket/bashScriptTest/automatic-spork/_notebooks\n",
      "total 6208\n",
      "-rw-r--r--  1 aniket  staff  3162384 Aug 26 15:21 2020-02-20-test.ipynb\n",
      "-rw-r--r--  1 aniket  staff      771 Aug 26 15:21 README.md\n",
      "-rw-r--r--  1 aniket  staff      868 Aug 26 15:21 bashnotebook.ipynb\n",
      "-rw-r--r--  1 aniket  staff     1368 Aug 26 15:21 firstnotebook.ipynb\n",
      "drwxr-xr-x  4 aniket  staff      128 Aug 26 15:21 ghtop_images\n",
      "drwxr-xr-x  3 aniket  staff       96 Aug 26 15:21 my_icons\n"
     ]
    }
   ],
   "source": [
    "echo \"Look for notebooks\"\n",
    "export notebooks=$project/_notebooks\n",
    "cd $notebooks\n",
    "pwd\n",
    "ls -l"
   ]
  },
  {
   "cell_type": "code",
   "execution_count": 9,
   "metadata": {
    "vscode": {
     "languageId": "shellscript"
    }
   },
   "outputs": [
    {
     "name": "stdout",
     "output_type": "stream",
     "text": [
      "Look for images in notebooks, print working directory, list files\n",
      "bash: cd: /Users/aniket/bashScriptTest/automatic-spork/_notebooks/images: No such file or directory\n",
      "/Users/aniket/bashScriptTest/automatic-spork/_notebooks\n",
      "total 6208\n",
      "-rw-r--r--  1 aniket  staff  3162384 Aug 26 15:21 2020-02-20-test.ipynb\n",
      "-rw-r--r--  1 aniket  staff      771 Aug 26 15:21 README.md\n",
      "-rw-r--r--  1 aniket  staff      868 Aug 26 15:21 bashnotebook.ipynb\n",
      "-rw-r--r--  1 aniket  staff     1368 Aug 26 15:21 firstnotebook.ipynb\n",
      "drwxr-xr-x  4 aniket  staff      128 Aug 26 15:21 ghtop_images\n",
      "drwxr-xr-x  3 aniket  staff       96 Aug 26 15:21 my_icons\n"
     ]
    }
   ],
   "source": [
    "echo \"Look for images in notebooks, print working directory, list files\"\n",
    "cd $notebooks/images\n",
    "pwd\n",
    "ls -l"
   ]
  },
  {
   "cell_type": "markdown",
   "metadata": {},
   "source": [
    "# Look inside a Markdown file"
   ]
  },
  {
   "cell_type": "code",
   "execution_count": 16,
   "metadata": {
    "vscode": {
     "languageId": "shellscript"
    }
   },
   "outputs": [
    {
     "name": "stdout",
     "output_type": "stream",
     "text": [
      "Navigate to project, then navigate to area wwhere files were cloned\n",
      "show the contents of README.md\n",
      "\n",
      "Project dir = /Users/aniket/bashScriptTest/automatic-spork\n",
      "Check if README.md exists\n",
      "Project dir exists\n",
      "README.md exists\n",
      "[//]: # (This template replaces README.md when someone creates a new repo with the fastpages template.)\n",
      "\n",
      "![](https://github.com/AniCricKet/automatic-spork/workflows/CI/badge.svg) \n",
      "![](https://github.com/AniCricKet/automatic-spork/workflows/GH-Pages%20Status/badge.svg) \n",
      "[![](https://img.shields.io/static/v1?label=fastai&message=fastpages&color=57aeac&labelColor=black&style=flat&logo=data:image/png;base64,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)](https://github.com/fastai/fastpages)\n",
      "\n",
      "https://AniCricKet.github.io/automatic-spork/\n",
      "\n",
      "# My Blog\n",
      "\n",
      "\n",
      "_powered by [fastpages](https://github.com/fastai/fastpages)_\n",
      "\n",
      "\n",
      "## What To Do Next?\n",
      "\n",
      "Great!  You have setup your repo.  Now its time to start writing content.  Some helpful links:\n",
      "\n",
      "- [Writing Blogs With Jupyter](https://github.com/fastai/fastpages#writing-blog-posts-with-jupyter)\n",
      "\n",
      "- [Writing Blogs With Markdown](https://github.com/fastai/fastpages#writing-blog-posts-with-markdown)\n",
      "\n",
      "- [Writing Blog Posts With Word](https://github.com/fastai/fastpages#writing-blog-posts-with-microsoft-word)\n",
      "\n",
      "- [(Optional) Preview Your Blog Locally](_fastpages_docs/DEVELOPMENT.md)\n",
      "\n",
      "Note: you may want to remove example blog posts from the `_posts`,  `_notebooks` or `_word` folders (but leave them empty, don't delete these folders) if you don't want these blog posts to appear on your site.\n",
      "\n",
      "Please use the [nbdev & blogging channel](https://forums.fast.ai/c/fastai-users/nbdev/48) in the fastai forums for any questions or feature requests.\n",
      "\n",
      "end of README.md\n"
     ]
    }
   ],
   "source": [
    "echo \"Navigate to project, then navigate to area wwhere files were cloned\"\n",
    "\n",
    "cd $project\n",
    "\n",
    "echo \"show the contents of README.md\"\n",
    "echo \"\"\n",
    "\n",
    "echo \"Check if README.md exists\"\n",
    "if [ ! -d $project ]\n",
    "then\n",
    "    echo \"Project dir does not exist\"\n",
    "else\n",
    "    echo \"Project dir exists\"\n",
    "fi\n",
    "cd $project\n",
    "\n",
    "if [ -f \"README.md\" ]\n",
    "then\n",
    "    echo \"README.md exists\"\n",
    "    cat README.md\n",
    "    echo \"\"\n",
    "    echo \"end of README.md\"\n",
    "else\n",
    "    echo \"README DOES NOT EXIST\"\n",
    "fi\n",
    "\n"
   ]
  },
  {
   "cell_type": "markdown",
   "metadata": {},
   "source": [
    "# Env, Git and GitHub"
   ]
  },
  {
   "cell_type": "code",
   "execution_count": 17,
   "metadata": {
    "vscode": {
     "languageId": "shellscript"
    }
   },
   "outputs": [
    {
     "name": "stdout",
     "output_type": "stream",
     "text": [
      "Show the shell environment variables, key on left of equal, value on right\n",
      "\n",
      "SHELL=/bin/zsh\n",
      "TMPDIR=/var/folders/ts/xl0x3s3x4d124txp915hsjwh0000gp/T/\n",
      "CONDA_SHLVL=1\n",
      "PYTHONUNBUFFERED=1\n",
      "CONDA_PROMPT_MODIFIER=(base) \n",
      "OLDPWD=/Users/aniket/bashScriptTest/automatic-spork\n",
      "ORIGINAL_XDG_CURRENT_DESKTOP=undefined\n",
      "MallocNanoZone=0\n",
      "PYTHONIOENCODING=utf-8\n",
      "USER=aniket\n",
      "COMMAND_MODE=unix2003\n",
      "CONDA_EXE=/Users/aniket/opt/anaconda3/bin/conda\n",
      "SSH_AUTH_SOCK=/private/tmp/com.apple.launchd.HOKMo7HKG8/Listeners\n",
      "__CF_USER_TEXT_ENCODING=0x1F6:0x0:0x0\n",
      "JPY_PARENT_PID=81461\n",
      "PAGER=cat\n",
      "VSCODE_AMD_ENTRYPOINT=vs/workbench/api/node/extensionHostProcess\n",
      "ELECTRON_RUN_AS_NODE=1\n",
      "JUPYTER_PATH=/Users/aniket/.vscode/extensions/ms-toolsai.jupyter-2022.7.1102252217/temp/jupyter\n",
      "_CE_CONDA=\n",
      "PATH=/Users/aniket/opt/anaconda3/bin:/Users/aniket/opt/anaconda3/condabin:/Library/Frameworks/Python.framework/Versions/2.7/bin:/usr/local/bin:/usr/bin:/bin:/usr/sbin:/sbin:/opt/homebrew/bin:/Users/aniket/Applications/Visual Studio Code.app/Contents/Resources/app/bin\n",
      "CONDA_PREFIX=/Users/aniket/opt/anaconda3\n",
      "__CFBundleIdentifier=com.microsoft.VSCode\n",
      "PWD=/Users/aniket/bashScriptTest/automatic-spork\n",
      "VSCODE_HANDLES_UNCAUGHT_ERRORS=true\n",
      "project_repo=https://github.com/AniCricKet/automatic-spork.git\n",
      "project=/Users/aniket/bashScriptTest/automatic-spork\n",
      "project_dir=/Users/aniket/bashScriptTest\n",
      "XPC_FLAGS=0x0\n",
      "PS1=[PEXP\\[\\]ECT_PROMPT>\n",
      "_CE_M=\n",
      "XPC_SERVICE_NAME=0\n",
      "SHLVL=1\n",
      "HOME=/Users/aniket\n",
      "VSCODE_NLS_CONFIG={\"locale\":\"en-us\",\"availableLanguages\":{},\"_languagePackSupport\":true}\n",
      "PYTHONPATH=/Users/aniket/.vscode/extensions/ms-toolsai.jupyter-2022.7.1102252217/pythonFiles:/Users/aniket/.vscode/extensions/ms-toolsai.jupyter-2022.7.1102252217/pythonFiles/lib/python\n",
      "CONDA_PYTHON_EXE=/Users/aniket/opt/anaconda3/bin/python\n",
      "LOGNAME=aniket\n",
      "LC_CTYPE=UTF-8\n",
      "VSCODE_IPC_HOOK=/Users/aniket/Library/Application Support/Code/1.70.2-main.sock\n",
      "VSCODE_CODE_CACHE_PATH=/Users/aniket/Library/Application Support/Code/CachedData/e4503b30fc78200f846c62cf8091b76ff5547662\n",
      "CONDA_DEFAULT_ENV=base\n",
      "VSCODE_PID=81391\n",
      "VSCODE_CWD=/\n",
      "_=/usr/bin/env\n"
     ]
    }
   ],
   "source": [
    "echo \"Show the shell environment variables, key on left of equal, value on right\"\n",
    "echo \"\"\n",
    "\n",
    "env"
   ]
  },
  {
   "cell_type": "code",
   "execution_count": 12,
   "metadata": {
    "vscode": {
     "languageId": "shellscript"
    }
   },
   "outputs": [
    {
     "name": "stdout",
     "output_type": "stream",
     "text": [
      "\n",
      "show the secrets of .git\n",
      "total 56\n",
      "-rw-r--r--   1 aniket  staff     23 Aug 26 15:21 HEAD\n",
      "drwxr-xr-x   2 aniket  staff     64 Aug 26 15:21 branches\n",
      "-rw-r--r--   1 aniket  staff    319 Aug 26 15:21 config\n",
      "-rw-r--r--   1 aniket  staff     73 Aug 26 15:21 description\n",
      "drwxr-xr-x  15 aniket  staff    480 Aug 26 15:21 hooks\n",
      "-rw-r--r--   1 aniket  staff  12090 Aug 26 15:21 index\n",
      "drwxr-xr-x   3 aniket  staff     96 Aug 26 15:21 info\n",
      "drwxr-xr-x   4 aniket  staff    128 Aug 26 15:21 logs\n",
      "drwxr-xr-x   4 aniket  staff    128 Aug 26 15:21 objects\n",
      "-rw-r--r--   1 aniket  staff    411 Aug 26 15:21 packed-refs\n",
      "drwxr-xr-x   5 aniket  staff    160 Aug 26 15:21 refs\n",
      "\n",
      "look at config file\n",
      "[core]\n",
      "\trepositoryformatversion = 0\n",
      "\tfilemode = true\n",
      "\tbare = false\n",
      "\tlogallrefupdates = true\n",
      "\tignorecase = true\n",
      "\tprecomposeunicode = true\n",
      "[remote \"origin\"]\n",
      "\turl = https://github.com/AniCricKet/automatic-spork.git\n",
      "\tfetch = +refs/heads/*:refs/remotes/origin/*\n",
      "[branch \"master\"]\n",
      "\tremote = origin\n",
      "\tmerge = refs/heads/master\n"
     ]
    }
   ],
   "source": [
    "cd $project\n",
    "\n",
    "echo \"\"\n",
    "echo \"show the secrets of .git\"\n",
    "cd .git\n",
    "ls -l\n",
    "\n",
    "echo \"\"\n",
    "echo \"look at config file\"\n",
    "cat config"
   ]
  },
  {
   "cell_type": "markdown",
   "metadata": {},
   "source": [
    "# Make a file within Bash"
   ]
  },
  {
   "cell_type": "code",
   "execution_count": 21,
   "metadata": {
    "vscode": {
     "languageId": "shellscript"
    }
   },
   "outputs": [
    {
     "name": "stdout",
     "output_type": "stream",
     "text": [
      "\n",
      "File listing and status\n",
      "-rw-r--r--  1 aniket  wheel  809 Aug 27 18:11 sample.md\n",
      "      15     132     809 sample.md\n",
      "\n",
      "\u001b[0m\u001b[0;1;47;90mShow Generated Markdown \u001b[0;2;30;47m========================================================\u001b[0m\n",
      "\n",
      "This introductory paragraph and this line and the title above are generated\n",
      "using tee with the standard input (<<) redirection operator.\n",
      "\u001b[0;1;91m- \u001b[0;1;91m\u001b[0;97mThis \u001b[0;97mbulleted \u001b[0;97melement \u001b[0;97mis \u001b[0;97mstill \u001b[0;97mpart \u001b[0;97mof \u001b[0;97mthe \u001b[0;97mtee \u001b[0;97mbody.\n",
      "\u001b[0;1;91m- \u001b[0;1;91m\u001b[0;97mThis \u001b[0;97mbulleted \u001b[0;97melement \u001b[0;97mand \u001b[0;97mlines \u001b[0;97mbelow \u001b[0;97mare \u001b[0;97mgenerated \u001b[0;97musing \u001b[0;97mecho \u001b[0;97mwith \u001b[0;97mstandard\n",
      "\u001b[0;97moutput \u001b[0;97m(>>) \u001b[0;97mredirection \u001b[0;97moperator.\n",
      "\u001b[0;1;91m- \u001b[0;1;91m\u001b[0;97mThe \u001b[0;97mlist \u001b[0;97mdefinition, \u001b[0;97mas \u001b[0;97mis, \u001b[0;97mis \u001b[0;97musing \u001b[0;97mspace \u001b[0;97mto \u001b[0;97mseperate \u001b[0;97mlines. \u001b[0;97mThus \u001b[0;97mthe \u001b[0;97muse \u001b[0;97mof\n",
      "\u001b[0;97mcommas \u001b[0;97mand \u001b[0;97mhyphens \u001b[0;97min \u001b[0;97moutput.\n",
      "      \u001b[0;1;91m- \u001b[0;1;91m\u001b[0;97mls: \u001b[0;97mlist \u001b[0;97mdirectory\n",
      "      \u001b[0;1;91m- \u001b[0;1;91m\u001b[0;97mcd: \u001b[0;97mchange \u001b[0;97mdirectory\n",
      "      \u001b[0;1;91m- \u001b[0;1;91m\u001b[0;97mpwd: \u001b[0;97mpresent \u001b[0;97mworking \u001b[0;97mdirectory\n",
      "      \u001b[0;1;91m- \u001b[0;1;91m\u001b[0;97mif \u001b[0;97mthen \u001b[0;97mfi: \u001b[0;97mtest \u001b[0;97mcondition\n",
      "      \u001b[0;1;91m- \u001b[0;1;91m\u001b[0;97menv: \u001b[0;97mbash \u001b[0;97menvironment \u001b[0;97mvariables\n",
      "      \u001b[0;1;91m- \u001b[0;1;91m\u001b[0;97mcat: \u001b[0;97mview \u001b[0;97mfile \u001b[0;97mcontents\n",
      "      \u001b[0;1;91m- \u001b[0;1;91m\u001b[0;97mtee: \u001b[0;97mwrite \u001b[0;97mto \u001b[0;97moutput\n",
      "      \u001b[0;1;91m- \u001b[0;1;91m\u001b[0;97mecho: \u001b[0;97mdisplay \u001b[0;97mcontent \u001b[0;97mof \u001b[0;97mstring\n",
      "      \u001b[0;1;91m- \u001b[0;1;91m\u001b[0;97mecho \u001b[0;97m\"sample \u001b[0;97mtext\" \u001b[0;97m>$file: \u001b[0;97mwrite \u001b[0;97mcontent \u001b[0;97mto \u001b[0;97mfile\n",
      "      \u001b[0;1;91m- \u001b[0;1;91m\u001b[0;97mecho \u001b[0;97m\"sample \u001b[0;97mtext\" \u001b[0;97m>>$file: \u001b[0;97mappend \u001b[0;97mcontent \u001b[0;97mto \u001b[0;97mfile\n",
      "\n",
      "\u001b[0m"
     ]
    }
   ],
   "source": [
    "cd /tmp\n",
    "\n",
    "file=\"sample.md\"\n",
    "if [ -f \"$file\" ]; then\n",
    "    rm $file\n",
    "fi\n",
    "\n",
    "tee -a $file >/dev/null <<EOF\n",
    "# Show Generated Markdown\n",
    "This introductory paragraph and this line and the title above are generated using tee with the standard input (<<) redirection operator.\n",
    "- This bulleted element is still part of the tee body.\n",
    "EOF\n",
    "\n",
    "echo \"- This bulleted element and lines below are generated using echo with standard output (>>) redirection operator.\" >> $file\n",
    "echo \"- The list definition, as is, is using space to seperate lines.  Thus the use of commas and hyphens in output.\" >> $file\n",
    "actions=(\"ls,list-directory\" \"cd,change-directory\" \"pwd,present-working-directory\" \"if-then-fi,test-condition\" \"env,bash-environment-variables\" \"cat,view-file-contents\" \"tee,write-to-output\" \"echo,display-content-of-string\" \"echo_text_>\\$file,write-content-to-file\" \"echo_text_>>\\$file,append-content-to-file\")\n",
    "for action in ${actions[@]}; do  # for loop is very similar to other language, though [@], semi-colon, do are new\n",
    "  action=${action//-/ }  # convert dash to space\n",
    "  action=${action//,/: } # convert comma to colon\n",
    "  action=${action//_text_/ \\\"sample text\\\" } # convert _text_ to sample text, note escape character \\ to avoid \"\" having meaning\n",
    "  echo \"    - ${action//-/ }\" >> $file  # echo is redirected to file with >>\n",
    "done\n",
    "\n",
    "echo \"\"\n",
    "echo \"File listing and status\"\n",
    "ls -l $file # list file\n",
    "wc $file   # show words\n",
    "export TERM=ansi\n",
    "mdless $file  # this requires installation, but renders markown from terminal\n",
    "\n",
    "rm $file  # clean up termporary file"
   ]
  },
  {
   "cell_type": "code",
   "execution_count": 1,
   "metadata": {
    "vscode": {
     "languageId": "shellscript"
    }
   },
   "outputs": [
    {
     "name": "stdout",
     "output_type": "stream",
     "text": [
      "Python 3.9.12\n",
      "Python 2.7.18\n"
     ]
    }
   ],
   "source": [
    "python --version\n",
    "python2 --version"
   ]
  },
  {
   "cell_type": "code",
   "execution_count": 2,
   "metadata": {
    "vscode": {
     "languageId": "shellscript"
    }
   },
   "outputs": [
    {
     "name": "stdout",
     "output_type": "stream",
     "text": [
      "# packages in environment at /Users/aniket/opt/anaconda3:\n",
      "#\n",
      "# Name                    Version                   Build  Channel\n",
      "_ipyw_jlab_nb_ext_conf    0.1.0            py39hecd8cb5_1  \n",
      "aiohttp                   3.8.1            py39hca72f7f_1  \n",
      "aiosignal                 1.2.0              pyhd3eb1b0_0  \n",
      "alabaster                 0.7.12             pyhd3eb1b0_0  \n",
      "anaconda                  2022.05                  py39_0  \n",
      "anaconda-client           1.9.0            py39hecd8cb5_0  \n",
      "anaconda-navigator        2.1.4            py39hecd8cb5_0  \n",
      "anaconda-project          0.10.2             pyhd3eb1b0_0  \n",
      "anyio                     3.5.0            py39hecd8cb5_0  \n",
      "appdirs                   1.4.4              pyhd3eb1b0_0  \n",
      "applaunchservices         0.2.1              pyhd3eb1b0_0  \n",
      "appnope                   0.1.2           py39hecd8cb5_1001  \n",
      "appscript                 1.1.2            py39h9ed2024_0  \n",
      "argon2-cffi               21.3.0             pyhd3eb1b0_0  \n",
      "argon2-cffi-bindings      21.2.0           py39hca72f7f_0  \n",
      "arrow                     1.2.2              pyhd3eb1b0_0  \n",
      "astroid                   2.6.6            py39hecd8cb5_0  \n",
      "astropy                   5.0.4            py39h67323c0_0  \n",
      "asttokens                 2.0.5              pyhd3eb1b0_0  \n",
      "async-timeout             4.0.1              pyhd3eb1b0_0  \n",
      "atomicwrites              1.4.0                      py_0  \n",
      "attrs                     21.4.0             pyhd3eb1b0_0  \n",
      "automat                   20.2.0                     py_0  \n",
      "autopep8                  1.6.0              pyhd3eb1b0_0  \n",
      "babel                     2.9.1              pyhd3eb1b0_0  \n",
      "backcall                  0.2.0              pyhd3eb1b0_0  \n",
      "backports                 1.1                pyhd3eb1b0_0  \n",
      "backports.functools_lru_cache 1.6.4              pyhd3eb1b0_0  \n",
      "backports.tempfile        1.0                pyhd3eb1b0_1  \n",
      "backports.weakref         1.0.post1                  py_1  \n",
      "bash-kernel               0.7.2                    pypi_0    pypi\n",
      "bcrypt                    3.2.0            py39h9ed2024_0  \n",
      "beautifulsoup4            4.11.1           py39hecd8cb5_0  \n",
      "binaryornot               0.4.4              pyhd3eb1b0_1  \n",
      "bitarray                  2.4.1            py39hca72f7f_0  \n",
      "bkcharts                  0.2              py39hecd8cb5_0  \n",
      "black                     19.10b0                    py_0  \n",
      "blas                      1.0                         mkl  \n",
      "bleach                    4.1.0              pyhd3eb1b0_0  \n",
      "blosc                     1.21.0               h2842e9f_0  \n",
      "bokeh                     2.4.2            py39hecd8cb5_0  \n",
      "boto3                     1.21.32            pyhd3eb1b0_0  \n",
      "botocore                  1.24.32            pyhd3eb1b0_0  \n",
      "bottleneck                1.3.4            py39h67323c0_0  \n",
      "brotli                    1.0.9                hb1e8313_2  \n",
      "brotlipy                  0.7.0           py39h9ed2024_1003  \n",
      "brunsli                   0.1                  h23ab428_0  \n",
      "bzip2                     1.0.8                h1de35cc_0  \n",
      "c-ares                    1.18.1               hca72f7f_0  \n",
      "ca-certificates           2022.3.29            hecd8cb5_1  \n",
      "cachetools                4.2.2              pyhd3eb1b0_0  \n",
      "certifi                   2021.10.8        py39hecd8cb5_2  \n",
      "cffi                      1.15.0           py39hc55c11b_1  \n",
      "cfitsio                   3.470                hee0f690_6  \n",
      "chardet                   4.0.0           py39hecd8cb5_1003  \n",
      "charls                    2.2.0                h23ab428_0  \n",
      "charset-normalizer        2.0.4              pyhd3eb1b0_0  \n",
      "click                     8.0.4            py39hecd8cb5_0  \n",
      "cloudpickle               2.0.0              pyhd3eb1b0_0  \n",
      "clyent                    1.2.2            py39hecd8cb5_1  \n",
      "colorama                  0.4.4              pyhd3eb1b0_0  \n",
      "colorcet                  2.0.6              pyhd3eb1b0_0  \n",
      "conda                     4.13.0           py39hecd8cb5_0  \n",
      "conda-build               3.21.8           py39hecd8cb5_2  \n",
      "conda-content-trust       0.1.1              pyhd3eb1b0_0  \n",
      "conda-env                 2.6.0                         1  \n",
      "conda-pack                0.6.0              pyhd3eb1b0_0  \n",
      "conda-package-handling    1.8.1            py39hca72f7f_0  \n",
      "conda-repo-cli            1.0.4              pyhd3eb1b0_0  \n",
      "conda-token               0.3.0              pyhd3eb1b0_0  \n",
      "conda-verify              3.4.2                      py_1  \n",
      "constantly                15.1.0             pyh2b92418_0  \n",
      "cookiecutter              1.7.3              pyhd3eb1b0_0  \n",
      "cryptography              3.4.8            py39h2fd3fbb_0  \n",
      "cssselect                 1.1.0              pyhd3eb1b0_0  \n",
      "curl                      7.82.0               hca72f7f_0  \n",
      "cycler                    0.11.0             pyhd3eb1b0_0  \n",
      "cython                    0.29.28          py39he9d5cce_0  \n",
      "cytoolz                   0.11.0           py39h9ed2024_0  \n",
      "daal4py                   2021.5.0         py39h24a4e90_0  \n",
      "dal                       2021.5.0           hecd8cb5_782  \n",
      "dask                      2022.2.1           pyhd3eb1b0_0  \n",
      "dask-core                 2022.2.1           pyhd3eb1b0_0  \n",
      "dataclasses               0.8                pyh6d0b6a4_7  \n",
      "datashader                0.13.0             pyhd3eb1b0_1  \n",
      "datashape                 0.5.4            py39hecd8cb5_1  \n",
      "debugpy                   1.5.1            py39he9d5cce_0  \n",
      "decorator                 5.1.1              pyhd3eb1b0_0  \n",
      "defusedxml                0.7.1              pyhd3eb1b0_0  \n",
      "diff-match-patch          20200713           pyhd3eb1b0_0  \n",
      "distributed               2022.2.1           pyhd3eb1b0_0  \n",
      "docutils                  0.17.1           py39hecd8cb5_1  \n",
      "entrypoints               0.4              py39hecd8cb5_0  \n",
      "et_xmlfile                1.1.0            py39hecd8cb5_0  \n",
      "executing                 0.8.3              pyhd3eb1b0_0  \n",
      "filelock                  3.6.0              pyhd3eb1b0_0  \n",
      "flake8                    3.9.2              pyhd3eb1b0_0  \n",
      "flask                     1.1.2              pyhd3eb1b0_0  \n",
      "fonttools                 4.25.0             pyhd3eb1b0_0  \n",
      "freetype                  2.11.0               hd8bbffd_0  \n",
      "frozenlist                1.2.0            py39hca72f7f_0  \n",
      "fsspec                    2022.2.0           pyhd3eb1b0_0  \n",
      "future                    0.18.2           py39hecd8cb5_1  \n",
      "gensim                    4.1.2            py39he9d5cce_0  \n",
      "giflib                    5.2.1                haf1e3a3_0  \n",
      "glob2                     0.7                pyhd3eb1b0_0  \n",
      "gmp                       6.2.1                h23ab428_2  \n",
      "gmpy2                     2.1.2            py39hd5de756_0  \n",
      "google-api-core           1.25.1             pyhd3eb1b0_0  \n",
      "google-auth               1.33.0             pyhd3eb1b0_0  \n",
      "google-cloud-core         1.7.1              pyhd3eb1b0_0  \n",
      "google-cloud-storage      1.31.0                     py_0  \n",
      "google-crc32c             1.1.2            py39h9ed2024_0  \n",
      "google-resumable-media    1.3.1              pyhd3eb1b0_1  \n",
      "googleapis-common-protos  1.53.0           py39hecd8cb5_0  \n",
      "greenlet                  1.1.1            py39h23ab428_0  \n",
      "grpcio                    1.42.0           py39ha29bfda_0  \n",
      "h5py                      3.6.0            py39h4a1dd59_0  \n",
      "hdf5                      1.10.6               hdbbcd12_0  \n",
      "heapdict                  1.0.1              pyhd3eb1b0_0  \n",
      "holoviews                 1.14.8             pyhd3eb1b0_0  \n",
      "hvplot                    0.7.3              pyhd3eb1b0_1  \n",
      "hyperlink                 21.0.0             pyhd3eb1b0_0  \n",
      "icu                       58.2                 h0a44026_3  \n",
      "idna                      3.3                pyhd3eb1b0_0  \n",
      "imagecodecs               2021.8.26        py39ha952a84_0  \n",
      "imageio                   2.9.0              pyhd3eb1b0_0  \n",
      "imagesize                 1.3.0              pyhd3eb1b0_0  \n",
      "importlib-metadata        4.11.3           py39hecd8cb5_0  \n",
      "importlib_metadata        4.11.3               hd3eb1b0_0  \n",
      "incremental               21.3.0             pyhd3eb1b0_0  \n",
      "inflection                0.5.1            py39hecd8cb5_0  \n",
      "iniconfig                 1.1.1              pyhd3eb1b0_0  \n",
      "intake                    0.6.5              pyhd3eb1b0_0  \n",
      "intel-openmp              2021.4.0          hecd8cb5_3538  \n",
      "intervaltree              3.1.0              pyhd3eb1b0_0  \n",
      "ipykernel                 6.9.1            py39hecd8cb5_0  \n",
      "ipython                   8.2.0            py39hecd8cb5_0  \n",
      "ipython_genutils          0.2.0              pyhd3eb1b0_1  \n",
      "ipywidgets                7.6.5              pyhd3eb1b0_1  \n",
      "isort                     5.9.3              pyhd3eb1b0_0  \n",
      "itemadapter               0.3.0              pyhd3eb1b0_0  \n",
      "itemloaders               1.0.4              pyhd3eb1b0_1  \n",
      "itsdangerous              2.0.1              pyhd3eb1b0_0  \n",
      "jdcal                     1.4.1              pyhd3eb1b0_0  \n",
      "jedi                      0.18.1           py39hecd8cb5_1  \n",
      "jinja2                    2.11.3             pyhd3eb1b0_0  \n",
      "jinja2-time               0.2.0              pyhd3eb1b0_3  \n",
      "jmespath                  0.10.0             pyhd3eb1b0_0  \n",
      "joblib                    1.1.0              pyhd3eb1b0_0  \n",
      "jpeg                      9e                   hca72f7f_0  \n",
      "jq                        1.6               h9ed2024_1000  \n",
      "json5                     0.9.6              pyhd3eb1b0_0  \n",
      "jsonschema                4.4.0            py39hecd8cb5_0  \n",
      "jupyter                   1.0.0            py39hecd8cb5_7  \n",
      "jupyter_client            6.1.12             pyhd3eb1b0_0  \n",
      "jupyter_console           6.4.0              pyhd3eb1b0_0  \n",
      "jupyter_core              4.9.2            py39hecd8cb5_0  \n",
      "jupyter_server            1.13.5             pyhd3eb1b0_0  \n",
      "jupyterlab                3.3.2              pyhd3eb1b0_0  \n",
      "jupyterlab_pygments       0.1.2                      py_0  \n",
      "jupyterlab_server         2.10.3             pyhd3eb1b0_1  \n",
      "jupyterlab_widgets        1.0.0              pyhd3eb1b0_1  \n",
      "jxrlib                    1.1                  haf1e3a3_2  \n",
      "keyring                   23.4.0           py39hecd8cb5_0  \n",
      "kiwisolver                1.3.2            py39he9d5cce_0  \n",
      "krb5                      1.19.2               hcd88c3b_0  \n",
      "lazy-object-proxy         1.6.0            py39h9ed2024_0  \n",
      "lcms2                     2.12                 hf1fd2bf_0  \n",
      "lerc                      3.0                  he9d5cce_0  \n",
      "libaec                    1.0.4                hb1e8313_1  \n",
      "libarchive                3.4.2                haa3ed63_0  \n",
      "libcrc32c                 1.1.1                hb1e8313_2  \n",
      "libcurl                   7.82.0               h6dfd666_0  \n",
      "libcxx                    12.0.0               h2f01273_0  \n",
      "libdeflate                1.8                  h9ed2024_5  \n",
      "libedit                   3.1.20210910         hca72f7f_0  \n",
      "libev                     4.33                 h9ed2024_1  \n",
      "libffi                    3.3                  hb1e8313_2  \n",
      "libgfortran               3.0.1                h93005f0_2  \n",
      "libiconv                  1.16                 hca72f7f_2  \n",
      "libidn2                   2.3.2                h9ed2024_0  \n",
      "liblief                   0.11.5               he9d5cce_1  \n",
      "libllvm11                 11.1.0               h46f1229_1  \n",
      "libnghttp2                1.46.0               ha29bfda_0  \n",
      "libpng                    1.6.37               ha441bb4_0  \n",
      "libprotobuf               3.19.1               h8346a28_0  \n",
      "libsodium                 1.0.18               h1de35cc_0  \n",
      "libspatialindex           1.9.3                h23ab428_0  \n",
      "libssh2                   1.10.0               h0a4fc7d_0  \n",
      "libtiff                   4.2.0                h87d7836_0  \n",
      "libunistring              0.9.10               h9ed2024_0  \n",
      "libwebp                   1.2.2                h56c3ce4_0  \n",
      "libwebp-base              1.2.2                hca72f7f_0  \n",
      "libxml2                   2.9.12               hcdb78fc_0  \n",
      "libxslt                   1.1.34               h83b36ba_0  \n",
      "libzopfli                 1.0.3                hb1e8313_0  \n",
      "llvm-openmp               12.0.0               h0dcd299_1  \n",
      "llvmlite                  0.38.0           py39h8346a28_0  \n",
      "locket                    0.2.1            py39hecd8cb5_2  \n",
      "lxml                      4.8.0            py39h65b224f_0  \n",
      "lz4-c                     1.9.3                h23ab428_1  \n",
      "lzo                       2.10                 haf1e3a3_2  \n",
      "markdown                  3.3.4            py39hecd8cb5_0  \n",
      "markupsafe                2.0.1            py39h9ed2024_0  \n",
      "matplotlib                3.5.1            py39hecd8cb5_1  \n",
      "matplotlib-base           3.5.1            py39hfb0c5b7_1  \n",
      "matplotlib-inline         0.1.2              pyhd3eb1b0_2  \n",
      "mccabe                    0.6.1            py39hecd8cb5_1  \n",
      "mistune                   0.8.4           py39h9ed2024_1000  \n",
      "mkl                       2021.4.0           hecd8cb5_637  \n",
      "mkl-service               2.4.0            py39h9ed2024_0  \n",
      "mkl_fft                   1.3.1            py39h4ab4a9b_0  \n",
      "mkl_random                1.2.2            py39hb2f4e1b_0  \n",
      "mock                      4.0.3              pyhd3eb1b0_0  \n",
      "mpc                       1.1.0                h6ef4df4_1  \n",
      "mpfr                      4.0.2                h9066e36_1  \n",
      "mpi                       1.0                       mpich  \n",
      "mpich                     3.3.2                hc856adb_0  \n",
      "mpmath                    1.2.1            py39hecd8cb5_0  \n",
      "msgpack-python            1.0.2            py39hf7b0b51_1  \n",
      "multidict                 5.2.0            py39hca72f7f_2  \n",
      "multipledispatch          0.6.0            py39hecd8cb5_0  \n",
      "munkres                   1.1.4                      py_0  \n",
      "mypy_extensions           0.4.3            py39hecd8cb5_1  \n",
      "navigator-updater         0.2.1                    py39_1  \n",
      "nbclassic                 0.3.5              pyhd3eb1b0_0  \n",
      "nbclient                  0.5.13           py39hecd8cb5_0  \n",
      "nbconvert                 6.4.4            py39hecd8cb5_0  \n",
      "nbformat                  5.3.0            py39hecd8cb5_0  \n",
      "ncurses                   6.3                  hca72f7f_2  \n",
      "nest-asyncio              1.5.5            py39hecd8cb5_0  \n",
      "networkx                  2.7.1              pyhd3eb1b0_0  \n",
      "nltk                      3.7                pyhd3eb1b0_0  \n",
      "nodejs                    10.13.0              h0a44026_0  \n",
      "nose                      1.3.7           pyhd3eb1b0_1008  \n",
      "notebook                  6.4.8            py39hecd8cb5_0  \n",
      "numba                     0.55.1           py39hae1ba45_0  \n",
      "numexpr                   2.8.1            py39h2e5f0a9_0  \n",
      "numpy                     1.21.5           py39h2e5f0a9_1  \n",
      "numpy-base                1.21.5           py39h3b1a694_1  \n",
      "numpydoc                  1.2                pyhd3eb1b0_0  \n",
      "olefile                   0.46               pyhd3eb1b0_0  \n",
      "oniguruma                 6.9.7.1              h9ed2024_0  \n",
      "openjpeg                  2.4.0                h66ea3da_0  \n",
      "openpyxl                  3.0.9              pyhd3eb1b0_0  \n",
      "openssl                   1.1.1n               hca72f7f_0  \n",
      "packaging                 21.3               pyhd3eb1b0_0  \n",
      "pandas                    1.4.2            py39he9d5cce_0  \n",
      "pandocfilters             1.5.0              pyhd3eb1b0_0  \n",
      "panel                     0.13.0           py39hecd8cb5_0  \n",
      "param                     1.12.0             pyhd3eb1b0_0  \n",
      "parsel                    1.6.0            py39hecd8cb5_0  \n",
      "parso                     0.8.3              pyhd3eb1b0_0  \n",
      "partd                     1.2.0              pyhd3eb1b0_1  \n",
      "pathspec                  0.7.0                      py_0  \n",
      "patsy                     0.5.2            py39hecd8cb5_1  \n",
      "pep8                      1.7.1            py39hecd8cb5_0  \n",
      "pexpect                   4.8.0              pyhd3eb1b0_3  \n",
      "pickleshare               0.7.5           pyhd3eb1b0_1003  \n",
      "pillow                    9.0.1            py39hde71d04_0  \n",
      "pip                       21.2.4           py39hecd8cb5_0  \n",
      "pkginfo                   1.8.2              pyhd3eb1b0_0  \n",
      "plotly                    5.6.0              pyhd3eb1b0_0  \n",
      "pluggy                    1.0.0            py39hecd8cb5_1  \n",
      "poyo                      0.5.0              pyhd3eb1b0_0  \n",
      "prometheus_client         0.13.1             pyhd3eb1b0_0  \n",
      "prompt-toolkit            3.0.20             pyhd3eb1b0_0  \n",
      "prompt_toolkit            3.0.20               hd3eb1b0_0  \n",
      "protego                   0.1.16                     py_0  \n",
      "protobuf                  3.19.1           py39he9d5cce_0  \n",
      "psutil                    5.8.0            py39h9ed2024_1  \n",
      "ptyprocess                0.7.0              pyhd3eb1b0_2  \n",
      "pure_eval                 0.2.2              pyhd3eb1b0_0  \n",
      "py                        1.11.0             pyhd3eb1b0_0  \n",
      "py-lief                   0.11.5           py39he9d5cce_1  \n",
      "pyasn1                    0.4.8              pyhd3eb1b0_0  \n",
      "pyasn1-modules            0.2.8                      py_0  \n",
      "pycodestyle               2.7.0              pyhd3eb1b0_0  \n",
      "pycosat                   0.6.3            py39h9ed2024_0  \n",
      "pycparser                 2.21               pyhd3eb1b0_0  \n",
      "pyct                      0.4.6            py39hecd8cb5_0  \n",
      "pycurl                    7.44.1           py39hbcfaee0_1  \n",
      "pydispatcher              2.0.5            py39hecd8cb5_2  \n",
      "pydocstyle                6.1.1              pyhd3eb1b0_0  \n",
      "pyerfa                    2.0.0            py39h9ed2024_0  \n",
      "pyflakes                  2.3.1              pyhd3eb1b0_0  \n",
      "pygments                  2.11.2             pyhd3eb1b0_0  \n",
      "pyhamcrest                2.0.2              pyhd3eb1b0_2  \n",
      "pyjwt                     2.1.0            py39hecd8cb5_0  \n",
      "pylint                    2.9.6            py39hecd8cb5_1  \n",
      "pyls-spyder               0.4.0              pyhd3eb1b0_0  \n",
      "pyodbc                    4.0.32           py39he9d5cce_1  \n",
      "pyopenssl                 21.0.0             pyhd3eb1b0_1  \n",
      "pyparsing                 3.0.4              pyhd3eb1b0_0  \n",
      "pyqt                      5.9.2            py39h23ab428_6  \n",
      "pyrsistent                0.18.0           py39hca72f7f_0  \n",
      "pysocks                   1.7.1            py39hecd8cb5_0  \n",
      "pytables                  3.6.1            py39h648f197_1  \n",
      "pytest                    7.1.1            py39hecd8cb5_0  \n",
      "python                    3.9.12               hdfd78df_0  \n",
      "python-dateutil           2.8.2              pyhd3eb1b0_0  \n",
      "python-fastjsonschema     2.15.1             pyhd3eb1b0_0  \n",
      "python-libarchive-c       2.9                pyhd3eb1b0_1  \n",
      "python-lsp-black          1.0.0              pyhd3eb1b0_0  \n",
      "python-lsp-jsonrpc        1.0.0              pyhd3eb1b0_0  \n",
      "python-lsp-server         1.2.4              pyhd3eb1b0_0  \n",
      "python-slugify            5.0.2              pyhd3eb1b0_0  \n",
      "python-snappy             0.6.0            py39h23ab428_3  \n",
      "python.app                3                py39hca72f7f_0  \n",
      "pytz                      2021.3             pyhd3eb1b0_0  \n",
      "pyviz_comms               2.0.2              pyhd3eb1b0_0  \n",
      "pywavelets                1.3.0            py39hca72f7f_0  \n",
      "pyyaml                    6.0              py39hca72f7f_1  \n",
      "pyzmq                     22.3.0           py39he9d5cce_2  \n",
      "qdarkstyle                3.0.2              pyhd3eb1b0_0  \n",
      "qstylizer                 0.1.10             pyhd3eb1b0_0  \n",
      "qt                        5.9.7                h468cd18_1  \n",
      "qtawesome                 1.0.3              pyhd3eb1b0_0  \n",
      "qtconsole                 5.3.0              pyhd3eb1b0_0  \n",
      "qtpy                      2.0.1              pyhd3eb1b0_0  \n",
      "queuelib                  1.5.0            py39hecd8cb5_0  \n",
      "readline                  8.1.2                hca72f7f_1  \n",
      "regex                     2022.3.15        py39hca72f7f_0  \n",
      "requests                  2.27.1             pyhd3eb1b0_0  \n",
      "requests-file             1.5.1              pyhd3eb1b0_0  \n",
      "ripgrep                   12.1.1                        0  \n",
      "rope                      0.22.0             pyhd3eb1b0_0  \n",
      "rsa                       4.7.2              pyhd3eb1b0_1  \n",
      "rtree                     0.9.7            py39hecd8cb5_1  \n",
      "ruamel_yaml               0.15.100         py39h9ed2024_0  \n",
      "s3transfer                0.5.0              pyhd3eb1b0_0  \n",
      "scikit-image              0.19.2           py39hae1ba45_0  \n",
      "scikit-learn              1.0.2            py39hae1ba45_1  \n",
      "scikit-learn-intelex      2021.5.0         py39hecd8cb5_0  \n",
      "scipy                     1.7.3            py39h8c7af03_0  \n",
      "scrapy                    2.6.1            py39hecd8cb5_0  \n",
      "seaborn                   0.11.2             pyhd3eb1b0_0  \n",
      "send2trash                1.8.0              pyhd3eb1b0_1  \n",
      "service_identity          18.1.0             pyhd3eb1b0_1  \n",
      "setuptools                61.2.0           py39hecd8cb5_0  \n",
      "sip                       4.19.13          py39h23ab428_0  \n",
      "six                       1.16.0             pyhd3eb1b0_1  \n",
      "smart_open                5.1.0              pyhd3eb1b0_0  \n",
      "snappy                    1.1.9                he9d5cce_0  \n",
      "sniffio                   1.2.0            py39hecd8cb5_1  \n",
      "snowballstemmer           2.2.0              pyhd3eb1b0_0  \n",
      "sortedcollections         2.1.0              pyhd3eb1b0_0  \n",
      "sortedcontainers          2.4.0              pyhd3eb1b0_0  \n",
      "soupsieve                 2.3.1              pyhd3eb1b0_0  \n",
      "sphinx                    4.4.0              pyhd3eb1b0_0  \n",
      "sphinxcontrib-applehelp   1.0.2              pyhd3eb1b0_0  \n",
      "sphinxcontrib-devhelp     1.0.2              pyhd3eb1b0_0  \n",
      "sphinxcontrib-htmlhelp    2.0.0              pyhd3eb1b0_0  \n",
      "sphinxcontrib-jsmath      1.0.1              pyhd3eb1b0_0  \n",
      "sphinxcontrib-qthelp      1.0.3              pyhd3eb1b0_0  \n",
      "sphinxcontrib-serializinghtml 1.1.5              pyhd3eb1b0_0  \n",
      "spyder                    5.1.5            py39hecd8cb5_1  \n",
      "spyder-kernels            2.1.3            py39hecd8cb5_0  \n",
      "sqlalchemy                1.4.32           py39hca72f7f_0  \n",
      "sqlite                    3.38.2               h707629a_0  \n",
      "stack_data                0.2.0              pyhd3eb1b0_0  \n",
      "statsmodels               0.13.2           py39hca72f7f_0  \n",
      "sympy                     1.10.1           py39hecd8cb5_0  \n",
      "tabulate                  0.8.9            py39hecd8cb5_0  \n",
      "tbb                       2021.5.0             haf03e11_0  \n",
      "tbb4py                    2021.5.0         py39haf03e11_0  \n",
      "tblib                     1.7.0              pyhd3eb1b0_0  \n",
      "tenacity                  8.0.1            py39hecd8cb5_0  \n",
      "terminado                 0.13.1           py39hecd8cb5_0  \n",
      "testpath                  0.5.0              pyhd3eb1b0_0  \n",
      "text-unidecode            1.3                pyhd3eb1b0_0  \n",
      "textdistance              4.2.1              pyhd3eb1b0_0  \n",
      "threadpoolctl             2.2.0              pyh0d69192_0  \n",
      "three-merge               0.1.1              pyhd3eb1b0_0  \n",
      "tifffile                  2021.7.2           pyhd3eb1b0_2  \n",
      "tinycss                   0.4             pyhd3eb1b0_1002  \n",
      "tk                        8.6.11               h7bc2e8c_0  \n",
      "tldextract                3.2.0              pyhd3eb1b0_0  \n",
      "toml                      0.10.2             pyhd3eb1b0_0  \n",
      "tomli                     1.2.2              pyhd3eb1b0_0  \n",
      "toolz                     0.11.2             pyhd3eb1b0_0  \n",
      "tornado                   6.1              py39h9ed2024_0  \n",
      "tqdm                      4.64.0           py39hecd8cb5_0  \n",
      "traitlets                 5.1.1              pyhd3eb1b0_0  \n",
      "twisted                   22.2.0           py39hca72f7f_0  \n",
      "typed-ast                 1.4.3            py39h9ed2024_1  \n",
      "typing-extensions         4.1.1                hd3eb1b0_0  \n",
      "typing_extensions         4.1.1              pyh06a4308_0  \n",
      "tzdata                    2022a                hda174b7_0  \n",
      "ujson                     5.1.0            py39he9d5cce_0  \n",
      "unidecode                 1.2.0              pyhd3eb1b0_0  \n",
      "unixodbc                  2.3.9                haf1e3a3_0  \n",
      "urllib3                   1.26.9           py39hecd8cb5_0  \n",
      "w3lib                     1.21.0             pyhd3eb1b0_0  \n",
      "watchdog                  2.1.6            py39h999c104_0  \n",
      "wcwidth                   0.2.5              pyhd3eb1b0_0  \n",
      "webencodings              0.5.1            py39hecd8cb5_1  \n",
      "websocket-client          0.58.0           py39hecd8cb5_4  \n",
      "werkzeug                  2.0.3              pyhd3eb1b0_0  \n",
      "wget                      1.21.3               h6dfd666_0  \n",
      "wheel                     0.37.1             pyhd3eb1b0_0  \n",
      "widgetsnbextension        3.5.2            py39hecd8cb5_0  \n",
      "wrapt                     1.12.1           py39h9ed2024_1  \n",
      "wurlitzer                 3.0.2            py39hecd8cb5_0  \n",
      "xarray                    0.20.1             pyhd3eb1b0_1  \n",
      "xlrd                      2.0.1              pyhd3eb1b0_0  \n",
      "xlsxwriter                3.0.3              pyhd3eb1b0_0  \n",
      "xlwings                   0.24.9           py39hecd8cb5_0  \n",
      "xz                        5.2.5                h1de35cc_0  \n",
      "yaml                      0.2.5                haf1e3a3_0  \n",
      "yapf                      0.31.0             pyhd3eb1b0_0  \n",
      "yarl                      1.6.3            py39h9ed2024_0  \n",
      "zeromq                    4.3.4                h23ab428_0  \n",
      "zfp                       0.5.5                he9d5cce_6  \n",
      "zict                      2.0.0              pyhd3eb1b0_0  \n",
      "zipp                      3.7.0              pyhd3eb1b0_0  \n",
      "zlib                      1.2.12               h4dc903c_2  \n",
      "zope                      1.0              py39hecd8cb5_1  \n",
      "zope.interface            5.4.0            py39h9ed2024_0  \n",
      "zstd                      1.4.9                h322a384_0  \n"
     ]
    }
   ],
   "source": [
    "conda list"
   ]
  },
  {
   "cell_type": "code",
   "execution_count": 3,
   "metadata": {
    "vscode": {
     "languageId": "shellscript"
    }
   },
   "outputs": [
    {
     "name": "stdout",
     "output_type": "stream",
     "text": [
      "Conda Check\n",
      "jupyter                   1.0.0            py39hecd8cb5_7  \n",
      "jupyter_client            6.1.12             pyhd3eb1b0_0  \n",
      "jupyter_console           6.4.0              pyhd3eb1b0_0  \n",
      "jupyter_core              4.9.2            py39hecd8cb5_0  \n",
      "jupyter_server            1.13.5             pyhd3eb1b0_0  \n",
      "jupyterlab                3.3.2              pyhd3eb1b0_0  \n",
      "jupyterlab_pygments       0.1.2                      py_0  \n",
      "jupyterlab_server         2.10.3             pyhd3eb1b0_1  \n",
      "jupyterlab_widgets        1.0.0              pyhd3eb1b0_1  \n"
     ]
    }
   ],
   "source": [
    "echo Conda Check\n",
    "# test for a kernel installation\n",
    "test=\"jupyter\" # keyword\n",
    "check=`conda list | grep $test` # run command\n",
    "n=${#check} # determine length\n",
    "\n",
    "if [[ ${n} > 0 ]];  # testt length\n",
    "then # greater than zero\n",
    "    echo \"$check\"\n",
    "else # less than zero\n",
    "    echo \"$test not found\"\n",
    "fi"
   ]
  },
  {
   "cell_type": "code",
   "execution_count": 4,
   "metadata": {
    "vscode": {
     "languageId": "shellscript"
    }
   },
   "outputs": [
    {
     "name": "stdout",
     "output_type": "stream",
     "text": [
      "Selected Jupyter core packages...\n",
      "IPython          : 8.2.0\n",
      "ipykernel        : 6.9.1\n",
      "ipywidgets       : 7.6.5\n",
      "jupyter_client   : 6.1.12\n",
      "jupyter_core     : 4.9.2\n",
      "jupyter_server   : 1.13.5\n",
      "jupyterlab       : 3.3.2\n",
      "nbclient         : 0.5.13\n",
      "nbconvert        : 6.4.4\n",
      "nbformat         : 5.3.0\n",
      "notebook         : 6.4.8\n",
      "qtconsole        : 5.3.0\n",
      "traitlets        : 5.1.1\n",
      "Available kernels:\n",
      "  python3106jvsc74a57bd0b0fa6594d8f4cbf19f97940f81e996739fb7646882a419484c72d19e05852a7e    /Users/aniket/.vscode/extensions/ms-toolsai.jupyter-2022.7.1102252217/temp/jupyter/kernels/python3106jvsc74a57bd0b0fa6594d8f4cbf19f97940f81e996739fb7646882a419484c72d19e05852a7e\n",
      "  python3912jvsc74a57bd062a3c7b13e34c5c80066aa14813ae7aee42bdf5a84ed4de12303ddc5ae86578e    /Users/aniket/.vscode/extensions/ms-toolsai.jupyter-2022.7.1102252217/temp/jupyter/kernels/python3912jvsc74a57bd062a3c7b13e34c5c80066aa14813ae7aee42bdf5a84ed4de12303ddc5ae86578e\n",
      "  bash                                                                                      /Users/aniket/Library/Jupyter/kernels/bash\n",
      "  javascript                                                                                /Users/aniket/Library/Jupyter/kernels/javascript\n",
      "  python3                                                                                   /Users/aniket/opt/anaconda3/share/jupyter/kernels/python3\n"
     ]
    }
   ],
   "source": [
    "jupyter --version\n",
    "jupyter kernelspec list"
   ]
  },
  {
   "cell_type": "code",
   "execution_count": 5,
   "metadata": {
    "vscode": {
     "languageId": "shellscript"
    }
   },
   "outputs": [
    {
     "name": "stdout",
     "output_type": "stream",
     "text": [
      "  python3106jvsc74a57bd0b0fa6594d8f4cbf19f97940f81e996739fb7646882a419484c72d19e05852a7e    /Users/aniket/.vscode/extensions/ms-toolsai.jupyter-2022.7.1102252217/temp/jupyter/kernels/python3106jvsc74a57bd0b0fa6594d8f4cbf19f97940f81e996739fb7646882a419484c72d19e05852a7e\n",
      "  python3912jvsc74a57bd062a3c7b13e34c5c80066aa14813ae7aee42bdf5a84ed4de12303ddc5ae86578e    /Users/aniket/.vscode/extensions/ms-toolsai.jupyter-2022.7.1102252217/temp/jupyter/kernels/python3912jvsc74a57bd062a3c7b13e34c5c80066aa14813ae7aee42bdf5a84ed4de12303ddc5ae86578e\n",
      "  python3                                                                                   /Users/aniket/opt/anaconda3/share/jupyter/kernels/python3\n"
     ]
    }
   ],
   "source": [
    "test=\"python3\" # keyword\n",
    "check=`jupyter kernelspec list | grep $test` # run command\n",
    "n=${#check} # determine length\n",
    "\n",
    "if [[ ${n} > 0 ]];  # testt length\n",
    "then # greater than zero\n",
    "    echo \"$check\"\n",
    "else # less than zero\n",
    "    echo \"$test not found\"\n",
    "fi"
   ]
  }
 ],
 "metadata": {
  "kernelspec": {
   "display_name": "Python 3.10.6 64-bit",
   "language": "python",
   "name": "python3"
  },
  "language_info": {
   "codemirror_mode": "shell",
   "file_extension": ".sh",
   "mimetype": "text/x-sh",
   "name": "python",
   "version": "3.10.6"
  },
  "orig_nbformat": 4,
  "vscode": {
   "interpreter": {
    "hash": "b0fa6594d8f4cbf19f97940f81e996739fb7646882a419484c72d19e05852a7e"
   }
  }
 },
 "nbformat": 4,
 "nbformat_minor": 2
}
