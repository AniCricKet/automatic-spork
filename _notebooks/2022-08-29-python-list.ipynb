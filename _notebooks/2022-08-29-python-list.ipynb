{
 "cells": [
  {
   "cell_type": "markdown",
   "metadata": {},
   "source": [
    "# Python Lists and Dictionaries\n",
    "Intro to data abstraction and dictionary.\n",
    "- categories: [jupyter, python, classwork]\n"
   ]
  },
  {
   "cell_type": "code",
   "execution_count": 11,
   "metadata": {},
   "outputs": [
    {
     "name": "stdout",
     "output_type": "stream",
     "text": [
      "\n",
      "Recursive loop output:\n",
      "\n",
      "Aniket Chakradeo\n",
      "\t Residence: 4S Ranch\n",
      "\t Birth Day: Febuary 20\n",
      "\t Cars: Red-Buggati\n",
      "\n",
      "Lucas Moore\n",
      "\t Residence: 4S Ranch\n",
      "\t Birth Day: December 16\n",
      "\t Cars: None\n",
      "\n",
      "Ryan Hakimipour\n",
      "\t Residence: San Diego\n",
      "\t Birth Day: June 15\n",
      "\t Cars: None\n",
      "\n",
      "Soham Kamat\n",
      "\t Residence: San Diego\n",
      "\t Birth Day: March 9\n",
      "\t Cars: None\n",
      "\n"
     ]
    }
   ],
   "source": [
    "# Defines the dictionary\n",
    "InfoDb = []\n",
    "\n",
    "# InfoDB is a data structure with expected Keys and Values\n",
    "\n",
    "# Append to List a Dictionary of key/values related to a person and cars\n",
    "#InfoDb.append({\n",
    "#    \"FirstName\": \"John\",\n",
    "#    \"LastName\": \"Mortensen\",\n",
    "#    \"DOB\": \"October 21\",\n",
    "#    \"Residence\": \"San Diego\",\n",
    "#    \"Email\": \"jmortensen@powayusd.com\",\n",
    "#    \"Owns_Cars\": [\"2015-Fusion\", \"2011-Ranger\", \"2003-Excursion\", \"1997-F350\", \"1969-Cadillac\"]\n",
    "#})\n",
    "\n",
    "# Append to List a 2nd Dictionary of key/values\n",
    "#InfoDb.append({\n",
    "#    \"FirstName\": \"Sunny\",\n",
    "#    \"LastName\": \"Naidu\",\n",
    "#    \"DOB\": \"August 2\",\n",
    "#    \"Residence\": \"Temecula\",\n",
    "#    \"Email\": \"snaidu@powayusd.com\",\n",
    "#    \"Owns_Cars\": [\"4Runner\"]\n",
    "#})\n",
    "\n",
    "\n",
    "InfoDb.append({\n",
    "    \"FirstName\": \"Aniket\",\n",
    "    \"LastName\": \"Chakradeo\",\n",
    "    \"DOB\": \"Febuary 20\",\n",
    "    \"Age\": \"15\",\n",
    "    \"HairColor\": \"Black\",\n",
    "    \"Residence\": \"4S Ranch\",\n",
    "    \"Email\": \"aniket@chakradeo.net\",\n",
    "    \"Owns_Cars\": [\"Red-Buggati\"]\n",
    "})\n",
    "\n",
    "InfoDb.append({\n",
    "    \"FirstName\": \"Lucas\",\n",
    "    \"LastName\": \"Moore\",\n",
    "    \"DOB\": \"December 16\",\n",
    "    \"Age\": \"15\",\n",
    "    \"HairColor\": \"Blonde\",\n",
    "    \"Residence\": \"4S Ranch\",\n",
    "    \"Email\": \"lem16silver@gmail.com\",\n",
    "    \"Owns_Cars\": [\"None\"]\n",
    "})\n",
    "\n",
    "InfoDb.append({\n",
    "    \"FirstName\": \"Ryan\",\n",
    "    \"LastName\": \"Hakimipour\",\n",
    "    \"DOB\": \"June 15\",\n",
    "    \"Age\": \"15\",\n",
    "    \"HairColor\": \"Black\",\n",
    "    \"Residence\": \"San Diego\",\n",
    "    \"Email\": \"RyanHaki@gmail.com\",\n",
    "    \"Owns_Cars\": [\"None\"]\n",
    "})\n",
    "\n",
    "InfoDb.append({\n",
    "    \"FirstName\": \"Soham\",\n",
    "    \"LastName\": \"Kamat\",\n",
    "    \"DOB\": \"March 9\",\n",
    "    \"Age\": \"15\",\n",
    "    \"HairColor\": \"Black\",\n",
    "    \"Residence\": \"San Diego\",\n",
    "    \"Email\": \"sohamk10039@stu.powayusd.com\",\n",
    "    \"Owns_Cars\": [\"None\"]\n",
    "})\n",
    "\n",
    "#print(InfoDb)\n",
    "\n",
    "# Print the data structure\n",
    "#print(InfoDb)\n",
    "\n",
    "def print_data(d_rec):\n",
    "    print(d_rec[\"FirstName\"], d_rec[\"LastName\"])  # using comma puts space between values\n",
    "    print(\"\\t\", \"Residence:\", d_rec[\"Residence\"]) # \\t is a tab indent\n",
    "    print(\"\\t\", \"Birth Day:\", d_rec[\"DOB\"])\n",
    "    print(\"\\t\", \"Cars: \", end=\"\")  # end=\"\" make sure no return occurs\n",
    "    print(\", \".join(d_rec[\"Owns_Cars\"]))  # join allows printing a string list with separator\n",
    "    print()\n",
    "\n",
    "def recursive_loop(i):\n",
    "    if i < len(InfoDb):\n",
    "        record = InfoDb[i]\n",
    "        print_data(record)\n",
    "        recursive_loop(i + 1)\n",
    "    return\n",
    "    \n",
    "print(\"\\nRecursive loop output:\\n\")\n",
    "recursive_loop(0)"
   ]
  },
  {
   "cell_type": "markdown",
   "metadata": {},
   "source": [
    "Function returning an input in reverse order"
   ]
  },
  {
   "cell_type": "code",
   "execution_count": 5,
   "metadata": {},
   "outputs": [
    {
     "name": "stdout",
     "output_type": "stream",
     "text": [
      "AP Computer Science\n",
      "ecneicS retupmoC PA\n"
     ]
    }
   ],
   "source": [
    "def reverse_function(string):\n",
    "    return string[::-1]\n",
    "\n",
    "string = input(\"Enter a word or phrase:\")\n",
    "mytxt = reverse_function(string)\n",
    "\n",
    "print(string)\n",
    "print(mytxt)"
   ]
  },
  {
   "cell_type": "markdown",
   "metadata": {},
   "source": [
    "Printing a dictionary in reverse order using a for loop"
   ]
  },
  {
   "cell_type": "code",
   "execution_count": 3,
   "metadata": {},
   "outputs": [
    {
     "name": "stdout",
     "output_type": "stream",
     "text": [
      "A\n",
      "n\n",
      "i\n",
      "k\n",
      "e\n",
      "t\n"
     ]
    }
   ],
   "source": [
    "aniket_dict = {'t': 1, 'e': 2, 'k': 3, 'i': 4, 'n': 5, 'A': 6}\n",
    "\n",
    "for k in reversed(list(aniket_dict.keys())):\n",
    "    print(k)"
   ]
  }
 ],
 "metadata": {
  "kernelspec": {
   "display_name": "Python 3.10.6 64-bit",
   "language": "python",
   "name": "python3"
  },
  "language_info": {
   "codemirror_mode": {
    "name": "ipython",
    "version": 3
   },
   "file_extension": ".py",
   "mimetype": "text/x-python",
   "name": "python",
   "nbconvert_exporter": "python",
   "pygments_lexer": "ipython3",
   "version": "3.10.6"
  },
  "orig_nbformat": 4,
  "vscode": {
   "interpreter": {
    "hash": "b0fa6594d8f4cbf19f97940f81e996739fb7646882a419484c72d19e05852a7e"
   }
  }
 },
 "nbformat": 4,
 "nbformat_minor": 2
}
