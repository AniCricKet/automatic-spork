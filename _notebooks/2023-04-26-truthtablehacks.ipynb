{
 "cells": [
  {
   "attachments": {},
   "cell_type": "markdown",
   "metadata": {},
   "source": [
    "# Binary Math and Truth Tables\n",
    "\n",
    "- toc: true\n",
    "- badges: false\n",
    "- comments: true\n",
    "- categories: [student]\n",
    "- type: ap\n",
    "- week: 31"
   ]
  },
  {
   "attachments": {},
   "cell_type": "markdown",
   "metadata": {},
   "source": [
    "# Binary Math Hacks\n",
    "\n",
    "Binary subtraction involves subtracting the smaller number from the larger using specific rules: if the digit being subtracted is 0, the result is the same as the minuend digit; if the digit being subtracted is 1 and the minuend digit is also 1, the result is 0; if the digit being subtracted is 1 and the minuend digit is 0, we borrow 1 from the next digit in the minuend, subtracting it from the minuend digit, with the result being 1. Binary multiplication involves multiplying each digit of the second number by each digit of the first number, shifted one place to the left for each digit, and then adding up all the results to get the final product. Binary division involves dividing the dividend by the divisor, starting from the left, and writing the quotient for each step. If the dividend is smaller than the divisor, write a 0 in the quotient and bring down the next digit of the dividend. If the dividend is larger than or equal to the divisor, divide the dividend by the divisor and write the quotient in the quotient column. Repeat the process until there are no more digits to bring down.\n",
    "\n",
    "\n",
    "Exercises: \n",
    "\n",
    "1-1 = 0\n",
    "\n",
    "1-0 = 1\n",
    "\n",
    "0-1 = 1\n",
    "\n",
    "0-0 = 0\n",
    "\n",
    "1x1 = 1\n",
    "\n",
    "1x0 = 0\n",
    "\n",
    "0x1 = 0\n",
    "\n",
    "0x0 = 0\n",
    "\n",
    "1/1 = 1\n",
    "\n",
    "0/1 = 0\n",
    "\n",
    "\n",
    "Here's a code segment which takes 2 binary numbers, subtracts them, and returns it in both decimal and binary.  "
   ]
  },
  {
   "cell_type": "code",
   "execution_count": 6,
   "metadata": {},
   "outputs": [
    {
     "name": "stdout",
     "output_type": "stream",
     "text": [
      "Here's the difference in binary: 10\n",
      "Here's the difference in decimal: 2\n"
     ]
    }
   ],
   "source": [
    "def subtract_binary(num1, num2):\n",
    "    diff = bin(int(num1, 2) - int(num2, 2))[2:]\n",
    "    dec_diff = int(diff, 2)\n",
    "    return diff, dec_diff\n",
    "\n",
    "num1 = '101'\n",
    "# 101 in decimal = 5\n",
    "num2 = '11'\n",
    "# 11 in decimal = 3\n",
    "diff, dec_diff = subtract_binary(num1, num2)\n",
    "print(\"Here's the difference in binary:\", diff)\n",
    "print(\"Here's the difference in decimal:\", dec_diff)\n"
   ]
  },
  {
   "attachments": {},
   "cell_type": "markdown",
   "metadata": {},
   "source": [
    "# Binary Logic Hacks\n",
    "![image](https://user-images.githubusercontent.com/91163802/235279821-810c1a78-dd92-42b2-97f8-df190e8b06a8.png)\n"
   ]
  },
  {
   "cell_type": "code",
   "execution_count": 8,
   "metadata": {},
   "outputs": [
    {
     "name": "stdout",
     "output_type": "stream",
     "text": [
      "The mean of the data is 0.4904628425744203\n",
      "The mean of the filtered data is 0\n",
      "0 numbers meet the first criteria\n"
     ]
    }
   ],
   "source": [
    "import pandas as pd\n",
    "\n",
    "df = pd.read_csv('random_numbers_1000.csv')\n",
    "mean = df['number'].mean()\n",
    "print(f\"The mean of the data is {mean}\")\n",
    "\n",
    "\n",
    "filtered_sum = 0\n",
    "count = 0\n",
    "for num in df['number']:\n",
    "    if num % 2 != 0:\n",
    "        continue\n",
    "    elif num % 5 == 0:\n",
    "        num *= 2\n",
    "    else:\n",
    "        pass\n",
    "    filtered_sum += num \n",
    "    count += 1\n",
    "\n",
    "if count > 0:\n",
    "    filtered_mean = filtered_sum / count\n",
    "else:\n",
    "    filtered_mean = 0\n",
    "\n",
    "print(f\"The mean of the filtered data is {filtered_mean}\")\n",
    "print(f\"{count} numbers meet the first criteria\")\n"
   ]
  },
  {
   "attachments": {},
   "cell_type": "markdown",
   "metadata": {},
   "source": [
    "# Logic Gates Hacks\n",
    "\n",
    "Logic gates are the basic building blocks of digital circuits that can be combined to implement Boolean functions and perform basic computer operations like addition, subtraction, multiplication, and division.\n",
    "\n",
    "Boolean operations are operations that work on binary values, while logic gates are physical devices that implement Boolean functions in digital circuits. In simpler terms, Boolean operations are abstract concepts, while logic gates are tangible components used to build digital circuits that perform Boolean operations.\n",
    "\n",
    "![image](https://user-images.githubusercontent.com/91163802/235264355-1e536924-d063-44fb-95ee-2dc4c8547fa7.png)\n",
    "\n",
    "# Fetching Hacks"
   ]
  },
  {
   "cell_type": "code",
   "execution_count": 3,
   "metadata": {},
   "outputs": [
    {
     "name": "stdout",
     "output_type": "stream",
     "text": [
      "[{'User ID': 101, 'Username': 'johndoe', 'Email': 'johndoe@example.com', 'Age': 25, 'Country': 'United States'}, {'User ID': 102, 'Username': 'janedoe', 'Email': 'janedoe@example.com', 'Age': 31, 'Country': 'Canada'}, {'User ID': 104, 'Username': 'sarahjane', 'Email': 'sarahjane@example.com', 'Age': 27, 'Country': 'Australia'}]\n"
     ]
    }
   ],
   "source": [
    "data = [\n",
    "    {\"User ID\": 101, \"Username\": \"johndoe\", \"Email\": \"johndoe@example.com\", \"Age\": 25, \"Country\": \"United States\"},\n",
    "    {\"User ID\": 102, \"Username\": \"janedoe\", \"Email\": \"janedoe@example.com\", \"Age\": 31, \"Country\": \"Canada\"},\n",
    "    {\"User ID\": 103, \"Username\": \"bobsmith\", \"Email\": \"bobsmith@example.com\", \"Age\": 45, \"Country\": \"United Kingdom\"},\n",
    "    {\"User ID\": 104, \"Username\": \"sarahjane\", \"Email\": \"sarahjane@example.com\", \"Age\": 27, \"Country\": \"Australia\"}\n",
    "]\n",
    "\n",
    "def filter_by_age(data, min_age, max_age):\n",
    "    filtered_data = []\n",
    "    for row in data:\n",
    "        age = row[\"Age\"]\n",
    "        if age >= min_age and age <= max_age:\n",
    "            filtered_data.append(row)\n",
    "    return filtered_data\n",
    "\n",
    "filtered_data = filter_by_age(data, 25, 35)\n",
    "print(filtered_data)"
   ]
  },
  {
   "attachments": {},
   "cell_type": "markdown",
   "metadata": {},
   "source": [
    "# Github Pages Hacks\n",
    "\n",
    "One hosting service website that is different from Github is GitLab. GitLab is a hosting service website that offers source code management and other DevOps-related features. One of its unique features is the integrated continuous integration and deployment (CI/CD) functionality, which allows users to automate the building, testing, and deployment of their applications. This feature helps teams save time and resources while improving the quality and reliability of their software.\n",
    "\n",
    "# API Hacks"
   ]
  },
  {
   "cell_type": "code",
   "execution_count": 9,
   "metadata": {},
   "outputs": [
    {
     "name": "stdout",
     "output_type": "stream",
     "text": [
      "     Name  Age Gender Grade\n",
      "0  Dillon   24      M     A\n",
      "1    Noor   31      M     B\n",
      "2  Steven   42      M     A\n",
      "3   Lucas   27      M     D\n",
      "4  Harsha   29      F     C\n",
      "5  Varalu   26      F     F\n",
      "6    Ryan   90      F     B\n",
      "7   Emaad   15      F     A\n",
      "     Name  Age Gender Grade\n",
      "1    Noor   31      M     B\n",
      "2  Steven   42      M     A\n",
      "6    Ryan   90      F     B\n",
      "     Name  Age Gender Grade\n",
      "4  Harsha   29      F     C\n",
      "5  Varalu   26      F     F\n",
      "6    Ryan   90      F     B\n",
      "7   Emaad   15      F     A\n",
      "     Name  Age Gender Grade\n",
      "0  Dillon   24      M     A\n",
      "1    Noor   31      M     B\n",
      "2  Steven   42      M     A\n",
      "6    Ryan   90      F     B\n",
      "7   Emaad   15      F     A\n"
     ]
    }
   ],
   "source": [
    "import pandas as pd\n",
    "\n",
    "data = {\n",
    "    'Name': ['Dillon', 'Noor', 'Steven', 'Lucas', 'Harsha', 'Varalu', 'Ryan', 'Emaad'],\n",
    "    'Age': [24, 31, 42, 27, 29, 26, 90, 15],\n",
    "    'Gender': ['M', 'M', 'M', 'M', 'F', 'F', 'F', 'F'],\n",
    "    'Grade': ['A', 'B', 'A', 'D', 'C', 'F', 'B', 'A']\n",
    "}\n",
    "\n",
    "df = pd.DataFrame(data)\n",
    "print(df)\n",
    "\n",
    "# Filter by Age greater than 30\n",
    "age_filter = df[df['Age'] > 30]\n",
    "print(age_filter)\n",
    "\n",
    "# Filter by Gender is 'F'\n",
    "gender_filter = df[df['Gender'] == 'F']\n",
    "print(gender_filter)\n",
    "\n",
    "# Filter by Grade is 'A' or 'B'\n",
    "grade_filter = df[df['Grade'].isin(['A', 'B'])]\n",
    "print(grade_filter)\n"
   ]
  }
 ],
 "metadata": {
  "kernelspec": {
   "display_name": "base",
   "language": "python",
   "name": "python3"
  },
  "language_info": {
   "codemirror_mode": {
    "name": "ipython",
    "version": 3
   },
   "file_extension": ".py",
   "mimetype": "text/x-python",
   "name": "python",
   "nbconvert_exporter": "python",
   "pygments_lexer": "ipython3",
   "version": "3.9.12"
  },
  "orig_nbformat": 4
 },
 "nbformat": 4,
 "nbformat_minor": 2
}
