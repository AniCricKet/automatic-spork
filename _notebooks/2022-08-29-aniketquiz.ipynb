{
 "cells": [
  {
   "cell_type": "markdown",
   "metadata": {},
   "source": [
    "# My Soccer Quiz\n",
    "- categories: [jupyter, classwork, python]\n",
    "- description: General knowledge quiz, based on soccer. I made this using python and jupyter notebooks"
   ]
  },
  {
   "cell_type": "code",
   "execution_count": 5,
   "metadata": {},
   "outputs": [
    {
     "name": "stdout",
     "output_type": "stream",
     "text": [
      "Welcome to my soccer quiz, aniket running /opt/homebrew/opt/python@3.10/bin/python3.10\n",
      "You will be asked 5 questions.\n",
      "Question: Are you ready to take a test?\n",
      "Answer: yes\n",
      "Question: How many balon d'ors has Lionel Messi won?\n",
      "7 is correct!\n",
      "Question: Which team has won the most amount of champions league titles?\n",
      "Real Madrid is correct!\n",
      "Question: Who won the 2018 edition of the FIFA World Cup?\n",
      "France is correct!\n",
      "Question: What is it called when a player without the ball on the offensive team is behind the last defender or fullback?\n",
      "Offside is correct!\n",
      "Question: What is given if the attacking team is fouled inside the penalty box?\n",
      "Penalty kick is correct!\n",
      "aniket you scored 5/5\n"
     ]
    }
   ],
   "source": [
    "import getpass, sys\n",
    "\n",
    "def question_and_answer(prompt):\n",
    "    print(\"Question: \" + prompt)\n",
    "    msg = input()\n",
    "    print(\"Answer: \" + msg)\n",
    "    \n",
    "def question_with_response(prompt):\n",
    "    print(\"Question: \" + prompt)\n",
    "    msg = input()\n",
    "    return msg\n",
    "\n",
    "questions = 5\n",
    "correct = 0\n",
    "\n",
    "print('Welcome to my soccer quiz, ' + getpass.getuser() + \" running \" + sys.executable)\n",
    "print(\"You will be asked \" + str(questions) + \" questions.\")\n",
    "question_and_answer(\"Are you ready to take a test?\")\n",
    "\n",
    "rsp = question_with_response(\"How many balon d'ors has Lionel Messi won?\")\n",
    "if rsp == \"7\":\n",
    "    print(rsp + \" is correct!\")\n",
    "    correct += 1\n",
    "else:\n",
    "    print(rsp + \" is incorrect!\")\n",
    "\n",
    "rsp = question_with_response(\"Which team has won the most amount of champions league titles?\")\n",
    "if rsp == \"Real Madrid\":\n",
    "    print(rsp + \" is correct!\")\n",
    "    correct += 1\n",
    "else:\n",
    "    print(rsp + \" is incorrect!\")\n",
    "\n",
    "rsp = question_with_response(\"Who won the 2018 edition of the FIFA World Cup?\")\n",
    "if rsp == \"France\":\n",
    "    print(rsp + \" is correct!\")\n",
    "    correct += 1\n",
    "else:\n",
    "    print(rsp + \" is incorrect!\")\n",
    "\n",
    "rsp = question_with_response(\"What is it called when a player without the ball on the offensive team is behind the last defender or fullback?\")\n",
    "if rsp == \"Offside\":\n",
    "    print(rsp + \" is correct!\")\n",
    "    correct += 1\n",
    "else:\n",
    "    print(rsp + \" is incorrect!\")\n",
    "\n",
    "rsp = question_with_response(\"What is given if the attacking team is fouled inside the penalty box?\")\n",
    "if rsp == \"Penalty kick\":\n",
    "    print(rsp + \" is correct!\")\n",
    "    correct += 1\n",
    "else:\n",
    "    print(rsp + \" is incorrect!\")\n",
    "\n",
    "print(getpass.getuser() + \" you scored \" + str(correct) +\"/\" + str(questions))"
   ]
  }
 ],
 "metadata": {
  "kernelspec": {
   "display_name": "Python 3.10.6 64-bit",
   "language": "python",
   "name": "python3"
  },
  "language_info": {
   "codemirror_mode": {
    "name": "ipython",
    "version": 3
   },
   "file_extension": ".py",
   "mimetype": "text/x-python",
   "name": "python",
   "nbconvert_exporter": "python",
   "pygments_lexer": "ipython3",
   "version": "3.10.6"
  },
  "orig_nbformat": 4,
  "vscode": {
   "interpreter": {
    "hash": "b0fa6594d8f4cbf19f97940f81e996739fb7646882a419484c72d19e05852a7e"
   }
  }
 },
 "nbformat": 4,
 "nbformat_minor": 2
}
