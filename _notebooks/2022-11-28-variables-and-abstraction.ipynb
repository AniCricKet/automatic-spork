{
 "cells": [
  {
   "cell_type": "markdown",
   "metadata": {},
   "source": [
    "# Variables, Asssignments, and Data Abstractions Notes\n",
    "> Notes from Presentation November 28\n",
    "- title: Unit 3 Sections 1-2\n",
    "- toc: true\n",
    "- categories: [1.A, 5.B, 5.D]\n",
    "- tags: [jupyter]"
   ]
  },
  {
   "cell_type": "markdown",
   "metadata": {},
   "source": [
    "## Variables\n",
    "* an abstraction within a program that can hold a value\n",
    "* helps keep data simple to understand in code\n",
    "* consists of 3 parts: name, value and type\n",
    "\n",
    "## Naming variables\n",
    "* keep it simple yet not vague\n",
    "* differentiate variables with capitals\n",
    "* don't have spaces or dashes\n",
    "\n",
    "## Types of data\n",
    "\n",
    "* Integer - a number\n",
    "* Text/string - words or characters\n",
    "* Boolean - true or false\n",
    "* Array - a list of values\n",
    "\n",
    "## Assignments\n",
    "\n",
    "* = operator assigns left side to right\n",
    "* += operator adds the value on the right to the left\n",
    "* -= operator subtracts the value on the right from the left\n",
    "* *= operator multiplies the value on the right with the left\n",
    "* /= operator divides the left value by the right\n",
    "* **= operator raises the left value to the power of the right value\n",
    "\n",
    "\n",
    "## Data Abstraction\n",
    "* Method used in coding to represent data in a useful form, by taking away data which isn’t useful \n",
    "* Variables and lists are main tools in data abstraction\n",
    "* Data abstractions help manage complexity in programs by giving a collection of data a name without referencing the specific details of the representation\n",
    "* Developing a data abstraction to use in a program can result in a program that is easier to develop and maintain\n",
    "\n",
    "## Lists and Strings\n",
    "\n",
    "* Lists are ordered sequences of elements\n",
    "* Elements are individual values or variables\n",
    "* Strings are ordered sequences of characters.\n",
    "\n",
    "\n",
    "* There are three different types of list operators in data abstraction: \n",
    "* Assigning values in a list to certain indices\n",
    "* Creating an empty list and assigning it to a variable\n",
    "* Assigning a copy of one list to another\n",
    "\n",
    "## Managing Complexity\n",
    "\n",
    "* Making code simpler to read\n",
    "* Bundling multiple variables into a list\n",
    "\n",
    "## How do lists help manage complexity\n",
    "\n",
    "* Don’t need as many variables\n",
    "* Can easily change total number of variables\n",
    "* Can apply same mathematical computation to the whole list rather than going one by one\n",
    "\n",
    "# Homework"
   ]
  },
  {
   "cell_type": "code",
   "execution_count": 3,
   "metadata": {},
   "outputs": [
    {
     "name": "stdout",
     "output_type": "stream",
     "text": [
      "Welcome Aniket\n",
      "Your test scores so far:\n",
      "\n",
      "98.1\n",
      "90.1\n",
      "86.4\n",
      "77.3\n",
      "95.9\n",
      "93.3\n",
      "\n",
      "Your test average is:\n",
      "90.0\n"
     ]
    }
   ],
   "source": [
    "name=input(\"What is your name?\")\n",
    "print(\"Welcome\", name)\n",
    "testScores = [98.1, 90.1, 86.4, 77.3, 95.9, 93.3]\n",
    "print(\"Your test scores so far:\\n\")\n",
    "for x in testScores:\n",
    "  print(x) \n",
    "\n",
    "print(\"\")\n",
    "  \n",
    "meanScores = sum(testScores)\n",
    "testAverage = meanScores // (len(testScores))\n",
    "print(\"Your test average is:\")\n",
    "print(testAverage)"
   ]
  }
 ],
 "metadata": {
  "kernelspec": {
   "display_name": "Python 3.10.6 64-bit",
   "language": "python",
   "name": "python3"
  },
  "language_info": {
   "codemirror_mode": {
    "name": "ipython",
    "version": 3
   },
   "file_extension": ".py",
   "mimetype": "text/x-python",
   "name": "python",
   "nbconvert_exporter": "python",
   "pygments_lexer": "ipython3",
   "version": "3.10.6"
  },
  "orig_nbformat": 4,
  "vscode": {
   "interpreter": {
    "hash": "b0fa6594d8f4cbf19f97940f81e996739fb7646882a419484c72d19e05852a7e"
   }
  }
 },
 "nbformat": 4,
 "nbformat_minor": 2
}
