{
 "cells": [
  {
   "attachments": {},
   "cell_type": "markdown",
   "metadata": {},
   "source": [
    "# 3.16 Lesson\n",
    "> Lesson about simulations and what they're used for \n",
    "\n",
    "- layout: default\n",
    "- toc: true\n",
    "- badges: false\n",
    "- comments: true\n",
    "- categories: [lesson]\n",
    "- permalink: /simulations/"
   ]
  },
  {
   "attachments": {},
   "cell_type": "markdown",
   "metadata": {},
   "source": [
    "# First Order of Business: Get your notebook \n",
    "\n",
    "- Open a terminal in vscode, run command: cd _notebooks, type 'wget' and paste this link into said terminal and run it \n",
    "\n",
    "- Take notes wherever you please, but you will be graded on participating "
   ]
  },
  {
   "attachments": {},
   "cell_type": "markdown",
   "metadata": {},
   "source": [
    "# So, what is a simulation anyway? \n",
    "\n",
    "- A simulation is a tested scenario used for viewing results/outputs to prepare for them in real world situations \n",
    "\n",
    "- These can be used for games like dice rolling, spinners, etc \n",
    "\n",
    "- These can be used for practical things such as building structures, testing car crashes, and other things before engaging in them in the real world \n",
    "\n",
    "- These simulations can have the option of obeying real world physics (Gravity, collision) or they can go against these norms since this is a fictitious scenario, and couldn't happen in real life"
   ]
  },
  {
   "attachments": {},
   "cell_type": "markdown",
   "metadata": {},
   "source": [
    "# Big Question \n",
    "\n",
    "- Which of the following simulations could be the LEAST useful? \n",
    "\n",
    "- A retailer trying to identify which products sold the most \n",
    "- A restaurant determining the efficiency of robots \n",
    "- An insurance company studying the rain impact of cars \n",
    "- A sports bike company studying design changes to their new bike design \n",
    "\n",
    "\n",
    "\n",
    "- If you guessed a bike company, you're wrong, because the retail simulation was the right answer. Simulating robots in food service, sudying rain impact on vehicles, and new bike design can contribute a lot more to society in comparison to seeing what products sell more than others. \n"
   ]
  },
  {
   "attachments": {},
   "cell_type": "markdown",
   "metadata": {},
   "source": [
    "# Next Big Question \n",
    "\n",
    "If you were making a simulation for making a new train station, which of the following would be true about this simulation? \n",
    "\n",
    "- It could reveal potential problems/safety issues before construction starts \n",
    "- It cannot be used to test the train station in different weather \n",
    "- Simulation will add high costs to projects \n",
    "- Simulation is not needed because this train station already exists  \n",
    "\n",
    "\n",
    "\n",
    "\n",
    "- Potential Saftey was the right answer, because you need somewhere to test the safety and ethicness of what you're about to do before you start building it. Otherwise, let's just say you'll have a special plaque for FBI's Most Wanted\n"
   ]
  },
  {
   "attachments": {},
   "cell_type": "markdown",
   "metadata": {},
   "source": [
    "# Simulation 1: \n",
    "\n",
    "Both programs below do the same thing. Given a height and a weight, they calculate how long it will take for a object to fall to the ground in a vacuum subjected to normal Earth levels of gravity. \n",
    "\n",
    "However, the second one is a simulation. It calculates the distance the object has fallen every 0.1 seconds. This is useful for if you wanted a visual representation of a falling object, which pure math can't do as smoothly. "
   ]
  },
  {
   "cell_type": "code",
   "execution_count": 1,
   "metadata": {},
   "outputs": [
    {
     "name": "stdout",
     "output_type": "stream",
     "text": [
      "It will take 2.0203050891044216 seconds for an object that weighs 20 pounds to fall  20.0 meters in a vacuum\n"
     ]
    }
   ],
   "source": [
    "height = float(input(\"height in meters?\"))\n",
    "\n",
    "weight = input(\"weight in pounds?\")\n",
    "\n",
    "stuff = (2 * (height / 9.8))**(1/2)\n",
    "\n",
    "print(\"It will take\", stuff,\"seconds for an object that weighs\",weight,\"pounds\",\"to fall \",height,\"meters in a vacuum\")"
   ]
  },
  {
   "cell_type": "code",
   "execution_count": 2,
   "metadata": {},
   "outputs": [
    {
     "name": "stdout",
     "output_type": "stream",
     "text": [
      "2.1000000000000005\n",
      "21.609000000000012\n"
     ]
    }
   ],
   "source": [
    "t = 0\n",
    "g = 0\n",
    "d = 0\n",
    "false = True\n",
    "while false:\n",
    "    t = t + 0.1\n",
    "    d = 9.8 / 2 * (t**2)\n",
    "    if d >= height:\n",
    "        false = False\n",
    "    #print(d) # if you want to print the distance every time it calculates it. Too long to output to a terminal, but this could be useful to display graphically. \n",
    "    #print(t)\n",
    "\n",
    "print(t)\n",
    "print(d)"
   ]
  },
  {
   "attachments": {},
   "cell_type": "markdown",
   "metadata": {},
   "source": [
    "# Simulation 2: \n",
    "\n",
    "- This simulation is made in order to simulate movement on a 2d plane vs a 3d plane.  \n",
    "\n",
    "- How it works: we have multiple variables, if statements and equations under a while command in order to randomy generate steps on a 2d plane. Once it reaches the set destination, it will say that the man made it home after x amount of steps. \n",
    "\n",
    "- For the 3D plane, it takes a lot longer due to how big and open the 3d environment is, so there are more if statements in the 3d plane \n",
    "\n",
    "(explain further)\n",
    "\n"
   ]
  },
  {
   "cell_type": "code",
   "execution_count": 3,
   "metadata": {},
   "outputs": [
    {
     "name": "stdout",
     "output_type": "stream",
     "text": [
      "( 1482 106 )\n",
      "( 796 578 )\n",
      "( 81 851 )\n",
      "( 23 -463 )\n",
      "( -368 -1224 )\n",
      "( 307 -583 )\n",
      "( 454 1270 )\n",
      "( 954 1284 )\n",
      "( 1076 408 )\n",
      "( 129 751 )\n",
      "Caped\n",
      "The Man Has Made It Home After  12 Turns\n",
      "The Man Has Made It Home After  2 Turns\n",
      "The Man Has Made It Home After  6778 Turns\n",
      "( -1117 223 )\n",
      "( -1510 1234 )\n",
      "( -816 260 )\n",
      "( -1041 -545 )\n",
      "( -1476 -1410 )\n",
      "( -996 -2604 )\n",
      "( -3026 -2988 )\n",
      "( -2348 -1598 )\n",
      "( -2716 -1606 )\n",
      "( -2976 -2544 )\n",
      "Caped\n",
      "The Man Has Made It Home After  2858 Turns\n",
      "The Man Has Made It Home After  2 Turns\n",
      "The Man Has Made It Home After  2 Turns\n",
      "The Man Has Made It Home After  6 Turns\n",
      "The Man Has Made It Home After  124 Turns\n",
      "The Man Has Made It Home After  4 Turns\n",
      "The Man Has Made It Home After  12 Turns\n",
      "The Man Has Made It Home After  2 Turns\n",
      "The Man Has Made It Home After  7340 Turns\n",
      "The Man Has Made It Home After  22 Turns\n",
      "The Man Has Made It Home After  10 Turns\n",
      "The Man Has Made It Home After  6 Turns\n",
      "The Man Has Made It Home After  242 Turns\n",
      "The Man Has Made It Home After  30 Turns\n",
      "The Man Has Made It Home After  16 Turns\n",
      "The Man Has Made It Home After  2 Turns\n",
      "The Man Has Made It Home After  558 Turns\n",
      "The Man Has Made It Home After  4 Turns\n",
      "The Man Has Made It Home After  8 Turns\n",
      "( -120 -796 )\n",
      "( -266 342 )\n",
      "( -1420 -806 )\n",
      "( -174 -1348 )\n",
      "( -604 -1846 )\n",
      "( -83 -1859 )\n",
      "( -790 -2130 )\n",
      "( -287 -1453 )\n",
      "( 339 -687 )\n",
      "( 937 611 )\n",
      "Caped\n",
      "The Man Has Made It Home After  6 Turns\n",
      "The Man Has Made It Home After  6 Turns\n",
      "( -700 354 )\n",
      "( -157 -1383 )\n",
      "( -589 -751 )\n",
      "( -1213 -1179 )\n",
      "( -2076 -1466 )\n",
      "( -2417 -2027 )\n",
      "( -1555 -2105 )\n",
      "( -1444 -1992 )\n",
      "( -1050 -2274 )\n",
      "( -54 -2266 )\n",
      "Caped\n",
      "The Man Has Made It Home After  2 Turns\n",
      "The Man Has Made It Home After  180 Turns\n",
      "The Man Has Made It Home After  2 Turns\n",
      "The Man Has Made It Home After  2 Turns\n",
      "The Man Has Made It Home After  2 Turns\n",
      "The Man Has Made It Home After  2 Turns\n",
      "( 718 -214 )\n",
      "( 1394 -1282 )\n",
      "( 1146 -844 )\n",
      "( 970 -388 )\n",
      "( 1721 -753 )\n"
     ]
    },
    {
     "ename": "KeyboardInterrupt",
     "evalue": "",
     "output_type": "error",
     "traceback": [
      "\u001b[0;31m---------------------------------------------------------------------------\u001b[0m",
      "\u001b[0;31mKeyboardInterrupt\u001b[0m                         Traceback (most recent call last)",
      "\u001b[1;32m/Users/aniket/vscode/automatic-spork/_notebooks/2022-12-12-Simulations.ipynb Cell 10\u001b[0m in \u001b[0;36m<cell line: 9>\u001b[0;34m()\u001b[0m\n\u001b[1;32m      <a href='vscode-notebook-cell:/Users/aniket/vscode/automatic-spork/_notebooks/2022-12-12-Simulations.ipynb#X12sZmlsZQ%3D%3D?line=5'>6</a>\u001b[0m stopped \u001b[39m=\u001b[39m \u001b[39m0\u001b[39m\n\u001b[1;32m      <a href='vscode-notebook-cell:/Users/aniket/vscode/automatic-spork/_notebooks/2022-12-12-Simulations.ipynb#X12sZmlsZQ%3D%3D?line=6'>7</a>\u001b[0m turns \u001b[39m=\u001b[39m []\n\u001b[0;32m----> <a href='vscode-notebook-cell:/Users/aniket/vscode/automatic-spork/_notebooks/2022-12-12-Simulations.ipynb#X12sZmlsZQ%3D%3D?line=8'>9</a>\u001b[0m \u001b[39mwhile\u001b[39;00m (nights \u001b[39m<\u001b[39m \u001b[39m100\u001b[39m):\n\u001b[1;32m     <a href='vscode-notebook-cell:/Users/aniket/vscode/automatic-spork/_notebooks/2022-12-12-Simulations.ipynb#X12sZmlsZQ%3D%3D?line=9'>10</a>\u001b[0m     step \u001b[39m=\u001b[39m random\u001b[39m.\u001b[39mrandrange(\u001b[39m4\u001b[39m)\n\u001b[1;32m     <a href='vscode-notebook-cell:/Users/aniket/vscode/automatic-spork/_notebooks/2022-12-12-Simulations.ipynb#X12sZmlsZQ%3D%3D?line=10'>11</a>\u001b[0m     \u001b[39mif\u001b[39;00m step \u001b[39m==\u001b[39m \u001b[39m0\u001b[39m:\n",
      "\u001b[0;31mKeyboardInterrupt\u001b[0m: "
     ]
    }
   ],
   "source": [
    "import random\n",
    "x = 0\n",
    "y = 0\n",
    "nights = 0\n",
    "turn = 0\n",
    "stopped = 0\n",
    "turns = []\n",
    "\n",
    "while (nights < 100):\n",
    "    step = random.randrange(4)\n",
    "    if step == 0:\n",
    "        x = x+1\n",
    "    if step == 1:\n",
    "        x = x-1\n",
    "    if step == 2:\n",
    "        y = y+1\n",
    "    if step == 3:\n",
    "        y = y-1\n",
    "\n",
    "    turn = turn + 1\n",
    "\n",
    "    if x == 0 and y == 0:\n",
    "        nights = nights + 1\n",
    "        print(\"The Man Has Made It Home After \", turn, \"Turns\")\n",
    "        turns.append(turn)\n",
    "        turn = 0\n",
    "    if turn/1000 % 1000 == 0 and x + y != 0:\n",
    "        print(\"(\", x,y, \")\")\n",
    "    if (turn > 10000000):\n",
    "        stopped = stopped + 1\n",
    "        turn = 0\n",
    "        x = 0\n",
    "        y = 0\n",
    "        nights = nights + 1\n",
    "        print(\"Caped\")\n",
    "\n",
    "average = sum(turns) / len(turns)\n",
    "print(\"Avaerage\", average, \"Ones that when't too long \", stopped)"
   ]
  },
  {
   "cell_type": "code",
   "execution_count": 4,
   "metadata": {},
   "outputs": [
    {
     "name": "stdout",
     "output_type": "stream",
     "text": [
      "The Bird Has Made It Home After  2 Turns\n",
      "( -199 705 )  |  -36\n",
      "( -112 1054 )  |  54\n",
      "( -268 890 )  |  764\n",
      "( -1047 1054 )  |  491\n",
      "( -2237 1249 )  |  -296\n",
      "( -3369 1408 )  |  -463\n",
      "( -3294 1921 )  |  -397\n",
      "( -4211 449 )  |  308\n",
      "( -4152 267 )  |  777\n",
      "( -5213 -150 )  |  799\n",
      "Caped\n",
      "The Bird Has Made It Home After  32 Turns\n",
      "The Bird Has Made It Home After  108 Turns\n",
      "( 357 779 )  |  294\n",
      "( -326 -477 )  |  91\n",
      "( 9 -370 )  |  511\n",
      "( 536 -1275 )  |  355\n",
      "( 792 -1358 )  |  1108\n",
      "( 161 -1123 )  |  992\n",
      "( 537 -557 )  |  1564\n",
      "( 566 -757 )  |  1349\n",
      "( 1736 -513 )  |  947\n",
      "( 2117 -509 )  |  694\n",
      "Caped\n",
      "( 95 256 )  |  133\n",
      "( -481 462 )  |  -1\n",
      "( -660 959 )  |  -105\n",
      "( -1529 600 )  |  -639\n",
      "( -1667 -599 )  |  138\n",
      "( -664 -287 )  |  -17\n",
      "( -362 -704 )  |  -790\n",
      "( -373 -1709 )  |  -1294\n",
      "( -865 -2275 )  |  -2024\n",
      "( -285 -2603 )  |  -1806\n",
      "Caped\n",
      "( -633 -239 )  |  -236\n",
      "( 421 431 )  |  -404\n",
      "( -248 -137 )  |  -737\n",
      "( -164 -619 )  |  -421\n",
      "( 670 -361 )  |  95\n",
      "( 750 -1205 )  |  -881\n",
      "( 1733 -1332 )  |  -1187\n",
      "( 2240 -2276 )  |  -1220\n"
     ]
    },
    {
     "ename": "KeyboardInterrupt",
     "evalue": "",
     "output_type": "error",
     "traceback": [
      "\u001b[0;31m---------------------------------------------------------------------------\u001b[0m",
      "\u001b[0;31mKeyboardInterrupt\u001b[0m                         Traceback (most recent call last)",
      "\u001b[1;32m/Users/aniket/vscode/automatic-spork/_notebooks/2022-12-12-Simulations.ipynb Cell 11\u001b[0m in \u001b[0;36m<cell line: 10>\u001b[0;34m()\u001b[0m\n\u001b[1;32m     <a href='vscode-notebook-cell:/Users/aniket/vscode/automatic-spork/_notebooks/2022-12-12-Simulations.ipynb#X13sZmlsZQ%3D%3D?line=25'>26</a>\u001b[0m turn \u001b[39m=\u001b[39m turn \u001b[39m+\u001b[39m \u001b[39m1\u001b[39m\n\u001b[1;32m     <a href='vscode-notebook-cell:/Users/aniket/vscode/automatic-spork/_notebooks/2022-12-12-Simulations.ipynb#X13sZmlsZQ%3D%3D?line=26'>27</a>\u001b[0m \u001b[39m#Goal check\u001b[39;00m\n\u001b[0;32m---> <a href='vscode-notebook-cell:/Users/aniket/vscode/automatic-spork/_notebooks/2022-12-12-Simulations.ipynb#X13sZmlsZQ%3D%3D?line=27'>28</a>\u001b[0m \u001b[39mif\u001b[39;00m x \u001b[39m==\u001b[39m \u001b[39m0\u001b[39m \u001b[39mand\u001b[39;00m y \u001b[39m==\u001b[39m \u001b[39m0\u001b[39m \u001b[39mand\u001b[39;00m z \u001b[39m==\u001b[39m \u001b[39m0\u001b[39m:\n\u001b[1;32m     <a href='vscode-notebook-cell:/Users/aniket/vscode/automatic-spork/_notebooks/2022-12-12-Simulations.ipynb#X13sZmlsZQ%3D%3D?line=28'>29</a>\u001b[0m     nights \u001b[39m=\u001b[39m nights \u001b[39m+\u001b[39m \u001b[39m1\u001b[39m\n\u001b[1;32m     <a href='vscode-notebook-cell:/Users/aniket/vscode/automatic-spork/_notebooks/2022-12-12-Simulations.ipynb#X13sZmlsZQ%3D%3D?line=29'>30</a>\u001b[0m     \u001b[39mprint\u001b[39m(\u001b[39m\"\u001b[39m\u001b[39mThe Bird Has Made It Home After \u001b[39m\u001b[39m\"\u001b[39m, turn, \u001b[39m\"\u001b[39m\u001b[39mTurns\u001b[39m\u001b[39m\"\u001b[39m)\n",
      "\u001b[0;31mKeyboardInterrupt\u001b[0m: "
     ]
    }
   ],
   "source": [
    "import random\n",
    "x = 0\n",
    "y = 0\n",
    "z = 0\n",
    "nights = 0\n",
    "turn = 0\n",
    "stopped = 0\n",
    "turns = []\n",
    "\n",
    "while (nights < 100):\n",
    "    #rando movement\n",
    "    step = random.randrange(6)\n",
    "    if step == 0:\n",
    "        x = x+1\n",
    "    if step == 1:\n",
    "        x = x-1\n",
    "    if step == 2:\n",
    "        y = y+1\n",
    "    if step == 3:\n",
    "        y = y-1\n",
    "    if step == 4:\n",
    "        z = z+1\n",
    "    if step == 5:\n",
    "        z = z-1\n",
    "    #Turn counter\n",
    "    turn = turn + 1\n",
    "    #Goal check\n",
    "    if x == 0 and y == 0 and z == 0:\n",
    "        nights = nights + 1\n",
    "        print(\"The Bird Has Made It Home After \", turn, \"Turns\")\n",
    "        turns.append(turn)\n",
    "        turn = 0\n",
    "    if turn/1000 % 1000 == 0 and x + y + z != 0:\n",
    "        print(\"(\", x,y, \") \",\"| \", z)\n",
    "    #Too long Stoper\n",
    "    if (turn > 10000000):\n",
    "        stopped = stopped + 1\n",
    "        turn = 0\n",
    "        x = 0\n",
    "        y = 0\n",
    "        z = 0\n",
    "        nights = nights + 1\n",
    "        print(\"Caped\")\n",
    "\n",
    "average = sum(turns) / len(turns)\n",
    "print(\"Avaerage\", average,\"Ones that when't too long \", stopped)"
   ]
  },
  {
   "attachments": {},
   "cell_type": "markdown",
   "metadata": {},
   "source": [
    "# Simulations in the wild\n",
    "\n",
    "Simulations are used extremely frequently in real life applications. One of the most common examples of simulations are video games. A games physics engine can accurately simulate objects colliding \n",
    "\n",
    "Another example is Blender, the software used in 3d animations class, here at Del Norte. Blender is made up of many small simulations, but one big one it uses is simulating the way light bounces off of and interacts with objects. "
   ]
  },
  {
   "attachments": {},
   "cell_type": "markdown",
   "metadata": {},
   "source": [
    "# HW !!!\n",
    "\n",
    "Create a simulation. It can be anything, just has to simulate something.\n",
    "\n",
    "Some ideas:\n",
    "\n",
    "- Two objects colliding\n",
    "- Gravity on other planets\n",
    "\n",
    "AND\n",
    "\n",
    "Find an example of a simulation in a software/game you use, screenshot, and explain how it is a simulation"
   ]
  },
  {
   "attachments": {},
   "cell_type": "markdown",
   "metadata": {},
   "source": [
    "I decided to make a simulation of acceleration on Earth. The initial velocity and position of the object are set to 0, and the time step, or dt, and number of iterations are set to 0.1 and 1000. The acceleration is set to 9.81 m/s^2, and the simulation is performed by updating the position and velocity of the object at each iteration according to the equations of motion that I've learned in physics 1 so far."
   ]
  },
  {
   "cell_type": "code",
   "execution_count": 4,
   "metadata": {},
   "outputs": [
    {
     "name": "stdout",
     "output_type": "stream",
     "text": [
      "980.999999999995\n",
      "49000.94999999976\n"
     ]
    }
   ],
   "source": [
    "# Set initial velocity and position\n",
    "velocity = 0\n",
    "position = 0\n",
    "\n",
    "# Set time step and number of iterations\n",
    "dt = 0.1\n",
    "n_iterations = 1000\n",
    "\n",
    "# Set gravitational acceleration\n",
    "g = 9.81\n",
    "\n",
    "# Perform simulation\n",
    "for i in range(n_iterations):\n",
    "  # Calculate new position\n",
    "  position += velocity * dt\n",
    "  # Calculate new velocity\n",
    "  velocity += g * dt\n",
    "  \n",
    "print(velocity)\n",
    "print(position)"
   ]
  },
  {
   "attachments": {},
   "cell_type": "markdown",
   "metadata": {},
   "source": [
    "As we spoke in class, an example of a simulation is Blender. I am currently in 3D animation 1 with Mr Askegreen, and over the past few weeks I've made [this donut](https://drive.google.com/file/d/1cCgzOhERUY_EWcKvWy6kynViw6hpA0fx/view). A key thing to notice is how blender is able to simulate how the light bounces off the donut's icing."
   ]
  }
 ],
 "metadata": {
  "kernelspec": {
   "display_name": "Python 3",
   "language": "python",
   "name": "python3"
  },
  "language_info": {
   "codemirror_mode": {
    "name": "ipython",
    "version": 3
   },
   "file_extension": ".py",
   "mimetype": "text/x-python",
   "name": "python",
   "nbconvert_exporter": "python",
   "pygments_lexer": "ipython3",
   "version": "3.10.6"
  },
  "orig_nbformat": 4,
  "vscode": {
   "interpreter": {
    "hash": "b0fa6594d8f4cbf19f97940f81e996739fb7646882a419484c72d19e05852a7e"
   }
  }
 },
 "nbformat": 4,
 "nbformat_minor": 2
}
