{
 "cells": [
  {
   "cell_type": "markdown",
   "metadata": {},
   "source": [
    "# 3.9 and 3.11 Lesson\n",
    "> Interactive lesson covering content from Collegeboard 3.9 and 3.11 made by students for students\n",
    "\n",
    "- layout: default\n",
    "- toc: true\n",
    "- badges: false\n",
    "- comments: true\n",
    "- permalink: /lesson9-11\n",
    "- categories: [lesson]"
   ]
  },
  {
   "attachments": {},
   "cell_type": "markdown",
   "metadata": {},
   "source": [
    "# My Hacks\n",
    "## [Flowchart](https://docs.google.com/drawings/d/1kUDVInDnPPy8DQjjvubUGzVwy-iQfEXQ7NCHPONAuFk/edit?usp=sharing)"
   ]
  },
  {
   "cell_type": "code",
   "execution_count": 10,
   "metadata": {},
   "outputs": [
    {
     "data": {
      "text/plain": [
       "19"
      ]
     },
     "execution_count": 10,
     "metadata": {},
     "output_type": "execute_result"
    }
   ],
   "source": [
    "import random\n",
    "# importing the random library so I can use a random number\n",
    "nums = []\n",
    "# function generates 3 random numbers from 1 to 20\n",
    "\n",
    "def pick_nums():\n",
    "    nums.append(random.randint(1, 20))\n",
    "    nums.append(random.randint(1, 20))\n",
    "    nums.append(random.randint(1, 20))\n",
    "    # adding 3 random numbers between 1 and 20 to the array nums\n",
    "    return (max(nums))\n",
    "    # return highest number from the array\n",
    "    \n",
    "pick_nums()"
   ]
  },
  {
   "cell_type": "markdown",
   "metadata": {},
   "source": [
    "# First Things First: WGET\n",
    "\n",
    "- wget allows you to essentially clone someone elses file on Github into a directory of your choosing\n",
    "    - You are able to edit your own copy of the file without affecting the original\n",
    "\n",
    "## Here's a quick how-to\n",
    "\n",
    "1. Open your VSCode terminal (`Terminal > New Terminal`)\n",
    "\n",
    "2. Navigate to your Fastpages Blog using `cd`\n",
    "\n",
    "3. Navigate to the `_notebooks` directory in your Fastpages\n",
    "\n",
    "4. Copy and paste this into the terminal: **wget https://raw.githubusercontent.com/Azeem-Khan1/TripleAJ/master/_notebooks/2022-12-06-lessonComplete.ipynb**\n",
    "\n",
    "5. You're all set! you can use this copy of our notebook to help you take notes and participate during the lesson\n",
    "\n",
    "    - Please raise your hand if you are having trouble with wget and we will come around and help you\n",
    "\n",
    "- Note: if you have a separate notebook that you take notes on and you also want to do your practice in that notebook, you can copy and paste cells from this notebook by left clicking next to any markdown or code cell (indicating that it is selected), do ctl+c or cmd+c, and go to the desired notebook and do ctl+v or cmd+v (if that doesn't work, try just c and v with no ctl or cmd)"
   ]
  },
  {
   "cell_type": "markdown",
   "metadata": {},
   "source": [
    "# 3.9 Part 1\n",
    "\n",
    "The lesson will start off with introducing what algorithms are and what they do, moreover, what their significance is. \n",
    "\n",
    "3.9 Lesson 1 has the objective to teach the student of the outcome of similar algorithmic concepts and similar algorithms. In this lesson, you will see different ways on how algorithms are developed.\n",
    "\n",
    "## Lesson 1 | Defining Algorithms \n",
    "\n",
    "What is an algorithm?\n",
    "An algorithm is a process or set of rules to be followed through CODE. There are set limitations, this is what makes algorithms fun, you can your imagination and create whatever you wan with your own instructions!\n",
    "\n",
    "- Algorithms can be written in different ways and still accomplish the same tasks\n",
    "\n",
    "- Algorithms that appear similar can yield different side effects or results.\n",
    "\n",
    "- Some conditional statements can be written as the same as Boolean expressions (VICE VERSA)\n",
    "\n",
    "- Different algorithms can be developed or use to solve the same problem. \n",
    "\n",
    "## Example 1 | What happens if we test the algorithm with different outputs?"
   ]
  },
  {
   "cell_type": "markdown",
   "metadata": {},
   "source": [
    "The pseudocode above is translated to python for you. \n",
    "\n",
    "Record what your outputs are when you enter 95 degrees F, does the algorithm yield the same result?"
   ]
  },
  {
   "cell_type": "markdown",
   "metadata": {},
   "source": [
    "The conditional below is nested"
   ]
  },
  {
   "cell_type": "code",
   "execution_count": 3,
   "metadata": {},
   "outputs": [
    {
     "name": "stdout",
     "output_type": "stream",
     "text": [
      "It's too hot outside!\n"
     ]
    }
   ],
   "source": [
    "temp = int(input(\"Select a temperature from 0 to 99 degrees F\"))\n",
    "if (temp >= 90):\n",
    "    print(\"It's too hot outside!\")\n",
    "else:\n",
    "    if (temp >= 65):\n",
    "        print(\"Sure I will play outside!\")\n",
    "    else: \n",
    "        print(\"It is too cold outside!\")\n",
    "# Input 54 and then 95, what do you notice?"
   ]
  },
  {
   "cell_type": "code",
   "execution_count": 5,
   "metadata": {},
   "outputs": [
    {
     "name": "stdout",
     "output_type": "stream",
     "text": [
      "It's too hot outside!\n",
      "Sure I will play outside!\n"
     ]
    }
   ],
   "source": [
    "temp = int(input(\"Select a temperature from 0 to 99 degrees F\"))\n",
    "if (temp >= 90):\n",
    "    print(\"It's too hot outside!\")\n",
    "if (temp >= 65):\n",
    "    print(\"Sure I will play outside!\")\n",
    "if (temp < 65):\n",
    "    print(\"It is too cold outside!\")\n",
    "    # Input 54 and then Input 95, what do you notice?"
   ]
  },
  {
   "cell_type": "markdown",
   "metadata": {},
   "source": [
    "## NOW RECORD with another output\n",
    "Record what your outputs are when you enter 54, does the algorithm yield the same result this time?\n",
    "\n",
    "*Now use 95 as an input for the two code blocks above.\n",
    "\n",
    "\n",
    "Even though an algorithm's code can look the same, you have to be careful, they can always yield different results. When constructing algorithms you want to make sure that your code corresponds with what you want as your output. You set the limit of your code and you decide what the code's output is.\n",
    "\n",
    "\n",
    "## Conditionals vs. Booleans\n",
    "\n",
    "The condition and instructions are what differ, that's where the magic happens. The condition is a boolean expression when an expression outputs either true or false. Boolean values are another type of data type in programming languages, and they can only ever hold true or false. \n",
    "\n",
    "\n",
    "## Exercise \n",
    "\n",
    "Learning how to utilize conditionals and booleans are important for developing algorithms. Use this exercise to help you. \n",
    "\n",
    "Can either Boolean expression on the right replace the conditional on the left? Assume isWeekday and isHoliday are Boolean variables.\n",
    "\n",
    "*NOTE = you can edit the variables to check the conditions needed!"
   ]
  },
  {
   "cell_type": "code",
   "execution_count": 10,
   "metadata": {},
   "outputs": [
    {
     "name": "stdout",
     "output_type": "stream",
     "text": [
      "True\n"
     ]
    }
   ],
   "source": [
    "IsHoliday = False\n",
    "IsWeekday = True\n",
    "if IsHoliday:\n",
    "    driveWork = True\n",
    "else: \n",
    "    if IsWeekday: \n",
    "        driveWork = True\n",
    "    else: \n",
    "        driveWork = False\n",
    "print(driveWork)"
   ]
  },
  {
   "cell_type": "markdown",
   "metadata": {},
   "source": [
    "## Logically thinking about conditionals and booleans\n",
    "\n",
    "Now the problem may seem confusing, but the best way to develop an algorithm is to think about all the possible results that can be potentially be outputted. \n",
    "\n",
    "So if IsHoliday is set to true, then driveWork is automatically equal to false and it does not matter what value of isWeekday is. This must mean that one of the conditionals must be NOT IsHoliday. \n",
    "\n",
    "In the case that lets say IsHoliday is set to false, then the variable for weekday needs to be checked. If it's true then driveWork is true, if it's false then driveWork is false. This must mean that the other conditional isWeekday. \n",
    "\n",
    "Combining both conditionals, you get option 2, which is not IsHoliday and IsWeekday. This is why option 2 is right!\n",
    "\n",
    "\n",
    "## Example 3 | Conditionals vs Booleans\n",
    "\n",
    "The following algorithms are intended to sum the odd numbers from 1-9. Which algorithms work as intended?\n",
    "\n",
    "Below, I have translated the block code into python, import this to your jupyter notebook and record the result. What do you notice?\n",
    "\n",
    "\n",
    "## First block\n",
    "\n"
   ]
  },
  {
   "cell_type": "code",
   "execution_count": 11,
   "metadata": {},
   "outputs": [
    {
     "name": "stdout",
     "output_type": "stream",
     "text": [
      "25\n"
     ]
    }
   ],
   "source": [
    "sum = 1\n",
    "counter = 3\n",
    "#iteration\n",
    "var = 0 \n",
    "while (var < 4): #while the var is <= 4, it executes those commands, once it exceeds it hits the else command\n",
    "    sum = sum + counter\n",
    "    counter = counter + 2\n",
    "    var = var + 1\n",
    "    # now go through the whole thing 4 times, this is an iteration, a vital part of algorithms.\n",
    "else:\n",
    "    print(sum)\n",
    "\n"
   ]
  },
  {
   "cell_type": "markdown",
   "metadata": {},
   "source": [
    "## Second block"
   ]
  },
  {
   "cell_type": "code",
   "execution_count": 50,
   "metadata": {},
   "outputs": [
    {
     "name": "stdout",
     "output_type": "stream",
     "text": [
      "25\n"
     ]
    }
   ],
   "source": [
    "sum = 0\n",
    "counter = 9\n",
    "#iteration\n",
    "while (counter >= 1): \n",
    "    sum = sum + counter\n",
    "    counter = counter - 2\n",
    "print(sum)"
   ]
  },
  {
   "cell_type": "markdown",
   "metadata": {},
   "source": [
    "When we start our initializing left sum as 1 counter as 3 we had no iterations yet. Remember we're going to have to repeat this four times because the block code prompts us to repeat 4 times, so we iterate. So as we go through and follow what the block gives us.\n",
    "\n",
    "So you see that the sum does work, it does sum up the odd numbers from 1-9\n",
    "\n",
    "Now lets look at the right block. \n",
    "\n",
    "Sum is set to 0\n",
    "Counter is set to 9\n",
    "We must repeat until the counter < 1 is true.\n",
    "\n",
    "So we keep adding until -1, that is when the counter < 1 is true, so we stop\n",
    "\n",
    "So why is it important to understand that algorithms can be written in different ways and still accomplish the same task?\n",
    "\n",
    "An algorithm is beautiful that way, just because you think of solving a problem differently, doesn't mean your wrong, \n"
   ]
  },
  {
   "cell_type": "markdown",
   "metadata": {},
   "source": [
    "# 3.9 Part 2\n",
    "## Flowcharts\n",
    "- Flowcharts can help you visualize the functionality of an algorithm\n",
    "\n",
    "- They are a good way to double check whether or not your algorithm is achieving its purpose\n",
    "\n",
    "\n",
    "### How To Set Up A Flowchart\n",
    "1. label the start point\n",
    "\n",
    "2. Define any and all variables you may need\n",
    "\n",
    "3. Consider the first question you want the algorithm to ask\n",
    "\n",
    "4. Write what you want the algorithm to do if the answer to that question is yes (or true)\n",
    "\n",
    "5. Write what you want the algorithm to do if the answer to that question is no (or false)\n",
    "\n",
    "    * Steps 3-5 are the steps to creating code that uses a process called selection (you can convert the question from step 3 to a conditional if-statement in code)\n",
    "    <br>\n",
    "    <br>\n",
    "6. Write out all necessary steps for the algorithm to function properly\n",
    "\n",
    "7. You may want your algorithm to iterate some steps until a condition is met\n",
    "\n",
    "    * You can write the steps that need to be repeated, then draw an arrow from the last step to a step above that contains a conditional statement\n",
    "    <br>\n",
    "    <br>\n",
    "8. determine a way to reach the end goal\n",
    "\n",
    "\n",
    "## Selection vs. Iteration\n",
    "\n",
    "- Selection:\n",
    "\n",
    "    - A process used in algorithms where a conditional if-statement leads to one of two outcomes\n",
    "        \n",
    "        - Outcome 1: if the conditional statement is true, something will happen\n",
    "        \n",
    "        - Outcome 2: if the conditional statement is false, something else will happen\n",
    "\n",
    "- Iteration\n",
    "\n",
    "    - A process used in algorithms that allows certain things to happen until a condition is satisfied\n",
    "\n",
    "        - Once the condition is satisfied, then an outcome is produced\n",
    "\n",
    "        - This can take the form of a for-loop, while-loop, and/or if-statement\n",
    "\n",
    "\n",
    "## Example A\n",
    "- Consider this situation:\n",
    "\n",
    "    - You are shopping for your favorite food at your favorite supermarket\n",
    "\n",
    "    - You see that there is a sale on wheat products for 35% off\n",
    "    \n",
    "    - There is another sale on produce for 20% off\n",
    "    \n",
    "    - These sales are mutually exclusive\n",
    "    \n",
    "    - Tax on all items is 8%\n",
    "\n",
    "- Your TASK:\n",
    "\n",
    "    - Create a flowchart for an algorithm that can be used to calculate the cost of your favorite item\n",
    "\n",
    "\n"
   ]
  },
  {
   "cell_type": "markdown",
   "metadata": {},
   "source": [
    "# 3.9 Part 3\n",
    "\n",
    " - For Algorithms\n",
    "    - How to combine and/or modify an existing algorithm.\n",
    "\n",
    "- Benefits of combining algorithms\n",
    "    - can reduce development time, testing time, and simplify the identification of errors.\n",
    "\n",
    "\n",
    "## Rules\n",
    "\n",
    "- step/rule 1: start with any positive integer\n",
    "- step/rule 2: if the preceding term is even; divide by 2\n",
    "- step/rule 3: if the preceding term is odd; multiply by 3 and add 1\n",
    "- step/rule 4: repeat steps until you arrive at 1\n",
    "- fact: the sequence should ALWAYS end up at 1 if repeated.\n",
    "\n",
    "## Algorithm to Start (Determining Whether a Number is Even or Odd)"
   ]
  },
  {
   "cell_type": "code",
   "execution_count": null,
   "metadata": {},
   "outputs": [],
   "source": [
    "print(\"choose value for x\")\n",
    "\n",
    "varx=int(input(\"Enter any positive Integer\"))\n",
    "\n",
    "if (varx %2 == 0):\n",
    "    print(\"the number is even\")\n",
    "\n",
    "else:\n",
    "    print(\"the number is odd\")\n",
    "# Run this cell to see how it works"
   ]
  },
  {
   "cell_type": "markdown",
   "metadata": {},
   "source": [
    "## How can we modify this code to match our goal\n",
    "\n",
    "- Hint: uses arithmetic operations\n",
    "- Hint: look at the steps of the equation and try and modify it to fit them\n",
    "- Must display all numbers used in it\n",
    "\n",
    "### Solution\n",
    "\n",
    "#### Step 1\n",
    "- steps/rules 2 & 3."
   ]
  },
  {
   "cell_type": "code",
   "execution_count": 16,
   "metadata": {},
   "outputs": [
    {
     "name": "stdout",
     "output_type": "stream",
     "text": [
      "choose value for x\n",
      "8\n"
     ]
    }
   ],
   "source": [
    "print(\"choose value for x\")\n",
    "\n",
    "varx=int(input(\"Enter any positive Integer\"))\n",
    "\n",
    "if (varx %2 == 0):\n",
    "     varx == varx/2      # Change print to the function\n",
    "\n",
    "else:\n",
    "    varx == varx * 3 + 1     # Change print to the function\n",
    "\n",
    "\n",
    "print(varx)\n",
    "\n"
   ]
  },
  {
   "cell_type": "markdown",
   "metadata": {},
   "source": [
    "#### Step 2\n",
    "- step/rule 4; here we add the loop"
   ]
  },
  {
   "cell_type": "code",
   "execution_count": 18,
   "metadata": {},
   "outputs": [
    {
     "name": "stdout",
     "output_type": "stream",
     "text": [
      "choose value for x\n",
      "1.0\n"
     ]
    }
   ],
   "source": [
    "print(\"choose value for x\")\n",
    "\n",
    "varx=int(input(\"Enter any positive Integer\"))\n",
    "\n",
    "while varx != 1:\n",
    "\n",
    "    if (varx %2 == 0):\n",
    "        varx = varx/2       # Change print to the function\n",
    "\n",
    "    else:\n",
    "        varx = varx * 3 + 1      # Change print to the function\n",
    "\n",
    "print(varx)"
   ]
  },
  {
   "cell_type": "markdown",
   "metadata": {},
   "source": [
    "#### Step 3\n",
    "- Display all values throughout the algorithm"
   ]
  },
  {
   "cell_type": "code",
   "execution_count": 20,
   "metadata": {},
   "outputs": [
    {
     "name": "stdout",
     "output_type": "stream",
     "text": [
      "choose value for x\n",
      "7\n",
      "The current number is: 22\n",
      "The current number is: 11.0\n",
      "The current number is: 34.0\n",
      "The current number is: 17.0\n",
      "The current number is: 52.0\n",
      "The current number is: 26.0\n",
      "The current number is: 13.0\n",
      "The current number is: 40.0\n",
      "The current number is: 20.0\n",
      "The current number is: 10.0\n",
      "The current number is: 5.0\n",
      "The current number is: 16.0\n",
      "The current number is: 8.0\n",
      "The current number is: 4.0\n",
      "The current number is: 2.0\n",
      "The current number is: 1.0\n",
      "1.0\n"
     ]
    }
   ],
   "source": [
    "print(\"choose value for x\")\n",
    "\n",
    "varx=int(input(\"Enter any positive Integer\"))\n",
    "\n",
    "print(varx)\n",
    "while varx != 1:\n",
    "\n",
    "    if (varx %2 == 0):\n",
    "        varx = varx/2       \n",
    "        print(\"The current number is:\", str(varx))               # add Display\n",
    "    else:\n",
    "        varx = varx * 3 + 1      \n",
    "        print(\"The current number is:\", str(varx))               # add Display\n",
    "print(varx)                       # Final # Should be 1 every time"
   ]
  },
  {
   "cell_type": "markdown",
   "metadata": {},
   "source": [
    "## Takeaways\n",
    "\n",
    "- You can use code you've previously wrote in order to make a project easier.\n",
    "- Breaking algorithms down into steps can make things easier and more simple.\n",
    "\n",
    "## Hacks\n",
    "\n",
    "- create another algorithm using a famous mathematical algorithm such as the \"collatz conjecture.\" and explain your steps in a post on a blog."
   ]
  },
  {
   "cell_type": "markdown",
   "metadata": {},
   "source": [
    "# 3.11 Binary Search\n",
    "\n",
    "Goals/Objectives:\n",
    "- detirmine number of iterations required to find vlue in data set.\n",
    "- explain requirements for binary search\n",
    "\n",
    "\n",
    "What is Binary Search?\n",
    "- Binary search is a search algorithm that finds the position of a target value within a sorted array. Binary search compares the target value to the middle element of the array. \n",
    "- An algorithm for iterating to find a value inside a data set\n",
    "\n",
    "About Binary Search:\n",
    "- Binary Search Algorithm starts in the middle of a data set of numbers and eliminates half the data. This process reapeats until the desired value is found or until all elements have been eliminated.\n",
    "- In order to use binary search effectivly and properly, data must be stored in order\n",
    "- COLLEGE BOARD INDEX STARTS AT 1 NOT 0"
   ]
  },
  {
   "attachments": {},
   "cell_type": "markdown",
   "metadata": {},
   "source": [
    "Think about how you would you would try to find a certain number in this set.\n",
    "\n",
    "\n",
    "\n",
    "One way would be to line up the numbers and count them individually untill you find the desired value.\n",
    "\n",
    "When working with large data sets with lots of numbers, methods like these wont work\n",
    "- Instead, a Binary Search would be more effective.\n",
    "\n",
    "Here we can see the numbers are set in an increasing order. Setting numbers in an increasing or decreasing is needed for a binary search\n",
    "- Binary search is started with the middle number first\n",
    "    - Middle number is found by taking the higest index number plus the lowest and divided by two\n",
    "- Binary Search can be represented using a tree as shown below\n",
    "\n",
    "\n",
    "Heres an easy way to put it:\n",
    "- binary search fidns the desired element by continuously chopping the search area in half\n",
    "- say the element you are looking for is 'f'\n",
    "\n",
    "[a b c d e f g h]\n",
    "\n",
    " - We would start in the middle at element 'd'\n",
    " - becuase our target is greater than d we will eliminate everything left of 'd' including 'd' (chopping it in half)\n",
    "\n",
    " [e f g h] is what now remains\n",
    "  - again we would 'chop in half'\n",
    "  - say we iterate through 'g' and 'h', our desired element is still not found so we would eliminate 'g; and 'h' and continue the process\n",
    "\n",
    "  [e f]\n",
    "  - now we are down to 2 elements\n",
    "  - 'chopping in half' will give us our desired element\n",
    "  \n",
    "  [f]"
   ]
  },
  {
   "cell_type": "code",
   "execution_count": 21,
   "metadata": {},
   "outputs": [
    {
     "name": "stdout",
     "output_type": "stream",
     "text": [
      "Element is present at index 5\n"
     ]
    }
   ],
   "source": [
    "# Binary Search in python\n",
    "\n",
    "def BinarySearch(array, x, low, high):\n",
    "\n",
    "    # Repeat until the pointers low and high meet each other \n",
    "    while low <= high:\n",
    "\n",
    "        mid = low + (high - low)//2 # find the middle (taking the higest index number plus the lowest and divided by two)\n",
    "\n",
    "        if array[mid] == x: # if desired number is the middle is found return desired number (middle number) \n",
    "            return mid\n",
    "\n",
    "        elif array[mid] < x: \n",
    "            low = mid + 1\n",
    "\n",
    "        else:\n",
    "            high = mid - 1\n",
    "\n",
    "    return -1\n",
    "\n",
    "\n",
    "array = [3, 4, 5, 6, 7, 8, 9]\n",
    "x = 8\n",
    "\n",
    "result = BinarySearch(array, x, 0, len(array)-1)\n",
    "\n",
    "if result != -1:\n",
    "    print(\"Element is present at index \" + str(result))\n",
    "else:\n",
    "    print(\"Not found\")"
   ]
  },
  {
   "attachments": {},
   "cell_type": "markdown",
   "metadata": {},
   "source": [
    "\n",
    "- We have created a function called binary_search() function which takes two arguments - a list to be sorted and a number to be searched.\n",
    "\n",
    "- We have declared two variables to store the lowest and highest values in the list. The lowest is assigned initial value to 0, the highest to\n",
    " len(list1)  1 and mid as 0.\n",
    "\n",
    "- Next, we have declared the while loop with the condition that the lowest is equal and smaller than the highest. The while loop will iterate if the number has not been found yet.\n",
    "\n",
    "- In the while loop, we find the mid value and compare the index value to the number we are searching for.\n",
    "\n",
    "- If the value of the mid-index is smaller than n, we increase the mid value by 1 and assign it to the low. The search moves to the left side.\n",
    "\n",
    "- Otherwise, if the value of mid index is larger than n, we decrease the mid value by 1 and assign it to the high. The search moves to the right side.\n",
    "\n",
    "- If the n is equal to the mid value then return mid.\n",
    "\n",
    "- This will happen until the low is equal and smaller than the high.\n",
    "\n",
    "- If we reach at the end of the function, then the element is not present in the list. We return -1 to the calling function.\n",
    "\n",
    "\n",
    "## Hacks\n",
    "\n",
    "Using my example above and steps below, create your own iteration using binary search\n",
    "\n",
    "\n",
    "Steps\n",
    "\n",
    "- Compare x with the middle element.\n",
    "- If x matches with the middle element, we return the mid index.\n",
    "- Else if x is greater than the mid element, then x can only lie in the right (greater) half subarray after the mid element. Then we apply the algorithm again for the right half.\n",
    "- Else if x is smaller, the target x must lie in the left (lower) half. So we apply the algorithm for the left half.\n"
   ]
  },
  {
   "cell_type": "markdown",
   "metadata": {},
   "source": [
    "# Homework Assignment (DUE FRIDAY 12/09 BY 5:00 PM)\n",
    "\n",
    "- Consider this situation:\n",
    "\n",
    "    - You're playing a short game using a random number generator from 1 to 20\n",
    "\n",
    "        - On each turn, a player will generate 3 random numbers\n",
    "\n",
    "        - They get to keep the highest number that they generate as their score\n",
    "\n",
    "\n",
    "### Your TASK:\n",
    "    \n",
    "1. Create a flowchart that can be used to write an algorithm that calculates a player's score after a turn\n",
    "\n",
    "    - NOTE: Don't forget the [syntax for Flowcharts](https://wcs.smartdraw.com/flowchart/img/basic-symbols-table.jpg?bn=15100111857)! (each shape represents an action)\n",
    "\n",
    "    - Try to implement selection and/or iteration in your algorithm\n",
    "\n",
    "    - Please do this using Google Drawing. It can be found in your Google Drive if you click `New > More > Google Drawings`\n",
    "\n",
    "\n",
    "2. Write the working algorithm in Python\n",
    "\n",
    "    - Make sure to initialize / define any variables you may need\n",
    "    \n",
    "    - Add comments to your code!\n",
    "\n",
    "\n",
    "### How to submit:\n",
    "\n",
    "1. Make a shareable link to your Flowchart with commenting access through Google Drive's \"Share\" feature\n",
    "\n",
    "2. Make a comment with the link at the top of the code block that holds your algorithm (use `#` for comments in Python)\n",
    "\n",
    "3. Submit a link to your algorithm (with the commented link to Flowchart) in the comment/issue found on the schedule\n",
    "\n",
    "### Grading\n",
    "\n",
    "- DUE FRIDAY 12/09 BY 5:00 PM\n",
    "\n",
    "- LATE PENALTY: -0.2\n",
    "\n",
    "- You will be graded based on:\n",
    "\n",
    "    - how functional your algorithm is\n",
    "\n",
    "    - how well your Flowchart is organized\n",
    "\n",
    "If something comes up, feel free to DM us on Slack"
   ]
  }
 ],
 "metadata": {
  "kernelspec": {
   "display_name": "Python 3.10.6 64-bit",
   "language": "python",
   "name": "python3"
  },
  "language_info": {
   "codemirror_mode": {
    "name": "ipython",
    "version": 3
   },
   "file_extension": ".py",
   "mimetype": "text/x-python",
   "name": "python",
   "nbconvert_exporter": "python",
   "pygments_lexer": "ipython3",
   "version": "3.10.6 (main, Aug 11 2022, 13:36:31) [Clang 13.1.6 (clang-1316.0.21.2.5)]"
  },
  "orig_nbformat": 4,
  "vscode": {
   "interpreter": {
    "hash": "b0fa6594d8f4cbf19f97940f81e996739fb7646882a419484c72d19e05852a7e"
   }
  }
 },
 "nbformat": 4,
 "nbformat_minor": 2
}
