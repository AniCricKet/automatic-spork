{
 "cells": [
  {
   "cell_type": "markdown",
   "metadata": {},
   "source": [
    "# Algorithms\n",
    "> Notes from Presentation November 29\n",
    "- title: Unit 3 Sections 3-4\n",
    "- toc: true\n",
    "- tags: [jupyter]"
   ]
  },
  {
   "cell_type": "markdown",
   "metadata": {},
   "source": [
    "# What is an Algorithm\n",
    "\n",
    "* A set of instructions that can accomplish a specific task\n",
    "\n",
    "## 3 different components\n",
    "\n",
    "* Sequencing - Algorithms do job in order of specification \n",
    "* Selection - Helps choose outcome based on a condition\n",
    "* Iteration - If a condition is true, the code will repeat\n",
    "\n",
    "## Algorithm Representations\n",
    "\n",
    "* Flowcharts\n",
    "* Pseudocode\n",
    "\n",
    "# Basic Operations\n",
    "\n",
    "* Subtraction represented by -\n",
    "* Addition represented by +\n",
    "* Multiplication represented by *\n",
    "* Division represented by /\n",
    "* Remainder represented by %\n",
    "* PEMDAS\n",
    "\n",
    "# Ways Variables are stored\n",
    "* Numerical values are stored\n",
    "* Value of another variable stored\n",
    "* Result of an operation stored\n",
    "* Result of a procedure stored\n",
    "\n",
    "# String\n",
    "* A string is a collection of characters\n",
    "* Characters can be anything from numbers, letters, spaces, special symbols, etc.\n",
    "* String concatenation is combining 2 strings into 1\n",
    "* A substring is a part of an already existing string"
   ]
  },
  {
   "cell_type": "code",
   "execution_count": null,
   "metadata": {},
   "outputs": [],
   "source": [
    "Num1 = 50\n",
    "Num2 = Num1 % 9 + 15\n",
    "Num3 = Num2 / Num1 + ( Num2 * 2 )\n",
    "Num4 = Num3 + Num1 / 5 - 10\n",
    "Result = Num4 - Num2\n",
    "\n",
    "# In this block of code, Result will be equal to 20.4\n",
    "\n",
    "Num1 = 10\n",
    "Num2 = Num1 % 3 * 4\n",
    "Num1 = Num2\n",
    "Num3 = Num1 * 3\n",
    "Result = Num3 % 2\n",
    "\n",
    "# In this block of code, Result will be equal to 0\n",
    "\n",
    "valueA = 4\n",
    "valueB = 90\n",
    "valueC = 17\n",
    "valueB = valueC - valueA\n",
    "valueA = valueA * 10\n",
    "if valueB > 10:\n",
    "    print(valueC)\n",
    "\n",
    "# In this block of code, printing valueC will print 17\n",
    "\n",
    "type = \"curly\"\n",
    "color = \"brown\"\n",
    "length = \"short\"\n",
    "type = \"straight\"\n",
    "hair = type + color + length\n",
    "print(hair)\n",
    "\n",
    "# In this block of code, printing hair will print the string \"straightbrownshort\""
   ]
  },
  {
   "cell_type": "code",
   "execution_count": null,
   "metadata": {},
   "outputs": [],
   "source": [
    "Num1 = 10\n",
    "Num2 = Num1 % 3 * 4\n",
    "Num1 = Num2\n",
    "Num3 = Num1 * 3\n",
    "Result = Num3 % 2\n",
    "\n",
    "# In this block of code, Result will be equal to 0\n",
    "\n",
    "valueA = 4\n",
    "valueB = 90\n",
    "valueC = 17\n",
    "valueB = valueC - valueA\n",
    "valueA = valueA * 10\n",
    "if valueB > 10:\n",
    "    print(valueC)\n",
    "\n",
    "# In this block of code, valueC will be equal to 17"
   ]
  },
  {
   "cell_type": "code",
   "execution_count": 16,
   "metadata": {},
   "outputs": [
    {
     "name": "stdout",
     "output_type": "stream",
     "text": [
      "Very handsome Mr.Mort is.\n"
     ]
    }
   ],
   "source": [
    "# Base Pseudocode\n",
    "# Noun = \"Mr.Mortenson\" \n",
    "# Adjective = \"handsome\" \n",
    "# Adjective2 = \"Very\" \n",
    "# Verb = \"is\" \n",
    "# abrev = subtring(Noun, 1, 7) \n",
    "# yoda = concat(Adjective2, \" \", Adjective, \" \", abrev, \" \",Verb, \".\") \n",
    "# print(yoda)\n",
    "\n",
    "Noun = \"Mr.Mortenson\" \n",
    "Adjective = \"handsome\" \n",
    "Adjective2 = \"Very\" \n",
    "Verb = \"is\" \n",
    "abrev = Noun[0:7]\n",
    "yoda = Adjective2 + \" \" + Adjective + \" \" + abrev + \" \" + Verb + \".\"\n",
    "print(yoda)"
   ]
  },
  {
   "cell_type": "code",
   "execution_count": 22,
   "metadata": {},
   "outputs": [
    {
     "name": "stdout",
     "output_type": "stream",
     "text": [
      "chocolate vote 270 raisin vote 4.5\n"
     ]
    }
   ],
   "source": [
    "# Base Pseudocode\n",
    "# cookie = \"chocolate\" \n",
    "# cookie2 = \"raisin\" \n",
    "# len1 = cookie / 2 \n",
    "# len2 = cookie2 * 45 \n",
    "# vote1 = (cookie, \"vote\", len2) \n",
    "# vote2 = (cookie2, \"vote\", len1) \n",
    "# votes = (concat(vote1, \" \", vote2)) \n",
    "# print(votes)\n",
    "\n",
    "cookie = \"chocolate\" \n",
    "cookie2 = \"raisin\" \n",
    "len1 = (len(cookie) / 2)\n",
    "len2 = (len(cookie2) * 45)\n",
    "vote1 = (cookie + \" vote \" + str(len2))\n",
    "vote2 = (cookie2 + \" vote \" + str(len1))\n",
    "print(vote1 +  \" \" + vote2)"
   ]
  }
 ],
 "metadata": {
  "kernelspec": {
   "display_name": "Python 3.9.12 ('base')",
   "language": "python",
   "name": "python3"
  },
  "language_info": {
   "codemirror_mode": {
    "name": "ipython",
    "version": 3
   },
   "file_extension": ".py",
   "mimetype": "text/x-python",
   "name": "python",
   "nbconvert_exporter": "python",
   "pygments_lexer": "ipython3",
   "version": "3.9.12"
  },
  "orig_nbformat": 4,
  "vscode": {
   "interpreter": {
    "hash": "62a3c7b13e34c5c80066aa14813ae7aee42bdf5a84ed4de12303ddc5ae86578e"
   }
  }
 },
 "nbformat": 4,
 "nbformat_minor": 2
}
