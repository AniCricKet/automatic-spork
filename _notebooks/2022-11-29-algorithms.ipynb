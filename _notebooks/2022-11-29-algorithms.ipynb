{
 "cells": [
  {
   "cell_type": "markdown",
   "metadata": {},
   "source": [
    "# Algorithms\n",
    "> Notes from Presentation November 29\n",
    "- title: Unit 3 Sections 3-4\n",
    "- toc: true\n",
    "- tags: [jupyter]"
   ]
  },
  {
   "cell_type": "markdown",
   "metadata": {},
   "source": [
    "# What is an Algorithm\n",
    "\n",
    "* A set of instructions that can accomplish a specific task\n",
    "\n",
    "## 3 different components\n",
    "\n",
    "* Sequencing - Algorithms do job in order of specification \n",
    "* Selection - Helps choose outcome based on a condition\n",
    "* Iteration - If a condition is true, the code will repeat\n",
    "\n",
    "## Algorithm Representations\n",
    "\n",
    "* Flowcharts\n",
    "* Pseudocode\n",
    "\n",
    "# Basic Operations\n",
    "\n",
    "* Subtraction represented by -\n",
    "* Addition represented by +\n",
    "* Multiplication represented by *\n",
    "* Division represented by /\n",
    "* Remainder represented by %\n",
    "* PEMDAS\n",
    "\n",
    "# Ways Variables are stored\n",
    "* Numerical values are stored\n",
    "* Value of another variable stored\n",
    "* Result of an operation stored\n",
    "* Result of a procedure stored\n",
    "\n",
    "# String\n"
   ]
  }
 ],
 "metadata": {
  "kernelspec": {
   "display_name": "Python 3.10.6 64-bit",
   "language": "python",
   "name": "python3"
  },
  "language_info": {
   "name": "python",
   "version": "3.10.6"
  },
  "orig_nbformat": 4,
  "vscode": {
   "interpreter": {
    "hash": "b0fa6594d8f4cbf19f97940f81e996739fb7646882a419484c72d19e05852a7e"
   }
  }
 },
 "nbformat": 4,
 "nbformat_minor": 2
}
